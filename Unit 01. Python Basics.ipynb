{
  "cells": [
    {
      "metadata": {},
      "cell_type": "markdown",
      "source": "# Unit 1. 파이썬 기초"
    },
    {
      "metadata": {},
      "cell_type": "markdown",
      "source": "## 1. 파이썬 시작하기"
    },
    {
      "metadata": {},
      "cell_type": "markdown",
      "source": "### 1) 파이썬이란?"
    },
    {
      "metadata": {},
      "cell_type": "markdown",
      "source": "- 파이썬(Python)은 1990년 암스테르담의 귀도 반 로섬(Guido Van Rossum)이 개발한 프로그래밍 언어\n- 인터프리터 언어 :  고급 언어로 작성된 원시코드 명령어들을 한번에 한 줄씩 읽어들여서 실행\n- 멀티 패러다임 : 절차지향, 객체지향, 함수형 패러다임\n- 다양한 라이브러리 : https://docs.python.org"
    },
    {
      "metadata": {},
      "cell_type": "markdown",
      "source": "### 2) 파이썬 설치하기"
    },
    {
      "metadata": {},
      "cell_type": "markdown",
      "source": "- 파이썬 다운로드 : www.python.org\n- 아나콘다 다운로드 : www.anaconda.com"
    },
    {
      "metadata": {},
      "cell_type": "markdown",
      "source": "### 3) 에디터 설치하기"
    },
    {
      "metadata": {},
      "cell_type": "markdown",
      "source": "- 비주얼 스튜디오 코드 : code.visualstudio.com\n- 주피터 노트북 : pip install jupyter\n- 파이참"
    },
    {
      "metadata": {},
      "cell_type": "markdown",
      "source": "## 2. 파이썬 기본 프로그램"
    },
    {
      "metadata": {},
      "cell_type": "markdown",
      "source": "### 1) 대화형 모드(Interactive Mode)"
    },
    {
      "metadata": {},
      "cell_type": "markdown",
      "source": "- REPL : Read Eval Print Loop"
    },
    {
      "metadata": {
        "scrolled": true,
        "trusted": false
      },
      "cell_type": "code",
      "source": "'Hello World!'",
      "execution_count": 3,
      "outputs": [
        {
          "data": {
            "text/plain": "'Hello World!'"
          },
          "execution_count": 3,
          "metadata": {},
          "output_type": "execute_result"
        }
      ]
    },
    {
      "metadata": {},
      "cell_type": "markdown",
      "source": "### 2) 파이썬 파일 실행"
    },
    {
      "metadata": {},
      "cell_type": "markdown",
      "source": "- .py file 실행 : python first.py"
    },
    {
      "metadata": {
        "trusted": false
      },
      "cell_type": "code",
      "source": "print('Hello World!')",
      "execution_count": 4,
      "outputs": [
        {
          "name": "stdout",
          "output_type": "stream",
          "text": "Hello World!\n"
        }
      ]
    },
    {
      "metadata": {},
      "cell_type": "markdown",
      "source": "## 3. 산술 연산자"
    },
    {
      "metadata": {},
      "cell_type": "markdown",
      "source": "### 1) 덧셈"
    },
    {
      "metadata": {
        "trusted": false
      },
      "cell_type": "code",
      "source": "31+26",
      "execution_count": 5,
      "outputs": [
        {
          "data": {
            "text/plain": "57"
          },
          "execution_count": 5,
          "metadata": {},
          "output_type": "execute_result"
        }
      ]
    },
    {
      "metadata": {},
      "cell_type": "markdown",
      "source": "### 2) 뺄셈"
    },
    {
      "metadata": {
        "trusted": false
      },
      "cell_type": "code",
      "source": "511-54",
      "execution_count": 6,
      "outputs": [
        {
          "data": {
            "text/plain": "457"
          },
          "execution_count": 6,
          "metadata": {},
          "output_type": "execute_result"
        }
      ]
    },
    {
      "metadata": {},
      "cell_type": "markdown",
      "source": "### 3) 곱셈"
    },
    {
      "metadata": {
        "trusted": false
      },
      "cell_type": "code",
      "source": "5*15",
      "execution_count": 7,
      "outputs": [
        {
          "data": {
            "text/plain": "75"
          },
          "execution_count": 7,
          "metadata": {},
          "output_type": "execute_result"
        }
      ]
    },
    {
      "metadata": {},
      "cell_type": "markdown",
      "source": "### 4) 나눗셈"
    },
    {
      "metadata": {
        "trusted": false
      },
      "cell_type": "code",
      "source": "96/4",
      "execution_count": 8,
      "outputs": [
        {
          "data": {
            "text/plain": "24.0"
          },
          "execution_count": 8,
          "metadata": {},
          "output_type": "execute_result"
        }
      ]
    },
    {
      "metadata": {},
      "cell_type": "markdown",
      "source": "### 5) 몫"
    },
    {
      "metadata": {
        "trusted": false
      },
      "cell_type": "code",
      "source": "7//3",
      "execution_count": 9,
      "outputs": [
        {
          "data": {
            "text/plain": "2"
          },
          "execution_count": 9,
          "metadata": {},
          "output_type": "execute_result"
        }
      ]
    },
    {
      "metadata": {},
      "cell_type": "markdown",
      "source": "### 6) 나머지"
    },
    {
      "metadata": {
        "trusted": false
      },
      "cell_type": "code",
      "source": "26%2",
      "execution_count": 10,
      "outputs": [
        {
          "data": {
            "text/plain": "0"
          },
          "execution_count": 10,
          "metadata": {},
          "output_type": "execute_result"
        }
      ]
    },
    {
      "metadata": {},
      "cell_type": "markdown",
      "source": "### 7) 거듭제곱"
    },
    {
      "metadata": {
        "trusted": false
      },
      "cell_type": "code",
      "source": "2**4",
      "execution_count": 11,
      "outputs": [
        {
          "data": {
            "text/plain": "16"
          },
          "execution_count": 11,
          "metadata": {},
          "output_type": "execute_result"
        }
      ]
    },
    {
      "metadata": {},
      "cell_type": "markdown",
      "source": "### 8) 연산자 결합법칙"
    },
    {
      "metadata": {
        "trusted": false
      },
      "cell_type": "code",
      "source": "(2**2)**3",
      "execution_count": 19,
      "outputs": [
        {
          "data": {
            "text/plain": "64"
          },
          "execution_count": 19,
          "metadata": {},
          "output_type": "execute_result"
        }
      ]
    },
    {
      "metadata": {
        "trusted": false
      },
      "cell_type": "code",
      "source": "2**(2**3)",
      "execution_count": 20,
      "outputs": [
        {
          "data": {
            "text/plain": "256"
          },
          "execution_count": 20,
          "metadata": {},
          "output_type": "execute_result"
        }
      ]
    },
    {
      "metadata": {
        "trusted": false
      },
      "cell_type": "code",
      "source": "2**2**3",
      "execution_count": 21,
      "outputs": [
        {
          "data": {
            "text/plain": "256"
          },
          "execution_count": 21,
          "metadata": {},
          "output_type": "execute_result"
        }
      ]
    },
    {
      "metadata": {},
      "cell_type": "markdown",
      "source": "### 9) 연산자 우선순위"
    },
    {
      "metadata": {},
      "cell_type": "markdown",
      "source": "1. 괄호 ()\n2. 거듭제곱 **\n3. 곱셈 *, 나눗셈 /, 몫 //, 나머지 %\n4. 덧셈 +, 뺄셈 -"
    },
    {
      "metadata": {
        "trusted": false
      },
      "cell_type": "code",
      "source": "15/2+21%4-2**3",
      "execution_count": 23,
      "outputs": [
        {
          "data": {
            "text/plain": "0.5"
          },
          "execution_count": 23,
          "metadata": {},
          "output_type": "execute_result"
        }
      ]
    },
    {
      "metadata": {},
      "cell_type": "markdown",
      "source": "## 4. 변수"
    },
    {
      "metadata": {},
      "cell_type": "markdown",
      "source": "### 1) 변수란?"
    },
    {
      "metadata": {},
      "cell_type": "markdown",
      "source": "- 변수(Variable) : 값(Value)을 참조하는 이름\n- 변수에 값을 할당(assign)"
    },
    {
      "metadata": {},
      "cell_type": "markdown",
      "source": "### 2) 변수 할당"
    },
    {
      "metadata": {},
      "cell_type": "markdown",
      "source": "- 변수명 = 변수에 저장할 값"
    },
    {
      "metadata": {
        "trusted": false
      },
      "cell_type": "code",
      "source": "a = 20",
      "execution_count": 27,
      "outputs": []
    },
    {
      "metadata": {
        "trusted": false
      },
      "cell_type": "code",
      "source": "id(a)",
      "execution_count": 28,
      "outputs": [
        {
          "data": {
            "text/plain": "4344747968"
          },
          "execution_count": 28,
          "metadata": {},
          "output_type": "execute_result"
        }
      ]
    },
    {
      "metadata": {
        "trusted": false
      },
      "cell_type": "code",
      "source": "b = a",
      "execution_count": 29,
      "outputs": []
    },
    {
      "metadata": {
        "scrolled": true,
        "trusted": false
      },
      "cell_type": "code",
      "source": "id(b)",
      "execution_count": 30,
      "outputs": [
        {
          "data": {
            "text/plain": "4344747968"
          },
          "execution_count": 30,
          "metadata": {},
          "output_type": "execute_result"
        }
      ]
    },
    {
      "metadata": {
        "scrolled": true,
        "trusted": false
      },
      "cell_type": "code",
      "source": "number",
      "execution_count": 55,
      "outputs": [
        {
          "data": {
            "text/plain": "5"
          },
          "execution_count": 55,
          "metadata": {},
          "output_type": "execute_result"
        }
      ]
    },
    {
      "metadata": {
        "trusted": false
      },
      "cell_type": "code",
      "source": "number = 5",
      "execution_count": 56,
      "outputs": []
    },
    {
      "metadata": {
        "trusted": false
      },
      "cell_type": "code",
      "source": "number1, number2 = 511",
      "execution_count": 57,
      "outputs": [
        {
          "ename": "TypeError",
          "evalue": "'int' object is not iterable",
          "output_type": "error",
          "traceback": [
            "\u001b[0;31m---------------------------------------------------------------------------\u001b[0m",
            "\u001b[0;31mTypeError\u001b[0m                                 Traceback (most recent call last)",
            "\u001b[0;32m<ipython-input-57-4fbde476e995>\u001b[0m in \u001b[0;36m<module>\u001b[0;34m()\u001b[0m\n\u001b[0;32m----> 1\u001b[0;31m \u001b[0mnumber1\u001b[0m\u001b[0;34m,\u001b[0m \u001b[0mnumber2\u001b[0m \u001b[0;34m=\u001b[0m \u001b[0;36m511\u001b[0m\u001b[0;34m\u001b[0m\u001b[0m\n\u001b[0m",
            "\u001b[0;31mTypeError\u001b[0m: 'int' object is not iterable"
          ]
        }
      ]
    },
    {
      "metadata": {
        "trusted": false
      },
      "cell_type": "code",
      "source": "number1, number2 = 6, 9",
      "execution_count": 58,
      "outputs": []
    },
    {
      "metadata": {
        "trusted": false
      },
      "cell_type": "code",
      "source": "number1, number2 = 2, 4, 5",
      "execution_count": 59,
      "outputs": [
        {
          "ename": "ValueError",
          "evalue": "too many values to unpack (expected 2)",
          "output_type": "error",
          "traceback": [
            "\u001b[0;31m---------------------------------------------------------------------------\u001b[0m",
            "\u001b[0;31mValueError\u001b[0m                                Traceback (most recent call last)",
            "\u001b[0;32m<ipython-input-59-e7b48404c9ad>\u001b[0m in \u001b[0;36m<module>\u001b[0;34m()\u001b[0m\n\u001b[0;32m----> 1\u001b[0;31m \u001b[0mnumber1\u001b[0m\u001b[0;34m,\u001b[0m \u001b[0mnumber2\u001b[0m \u001b[0;34m=\u001b[0m \u001b[0;36m2\u001b[0m\u001b[0;34m,\u001b[0m \u001b[0;36m4\u001b[0m\u001b[0;34m,\u001b[0m \u001b[0;36m5\u001b[0m\u001b[0;34m\u001b[0m\u001b[0m\n\u001b[0m",
            "\u001b[0;31mValueError\u001b[0m: too many values to unpack (expected 2)"
          ]
        }
      ]
    },
    {
      "metadata": {
        "trusted": false
      },
      "cell_type": "code",
      "source": "number",
      "execution_count": 60,
      "outputs": [
        {
          "data": {
            "text/plain": "5"
          },
          "execution_count": 60,
          "metadata": {},
          "output_type": "execute_result"
        }
      ]
    },
    {
      "metadata": {
        "trusted": false
      },
      "cell_type": "code",
      "source": "number1",
      "execution_count": 61,
      "outputs": [
        {
          "data": {
            "text/plain": "6"
          },
          "execution_count": 61,
          "metadata": {},
          "output_type": "execute_result"
        }
      ]
    },
    {
      "metadata": {
        "trusted": false
      },
      "cell_type": "code",
      "source": "number2",
      "execution_count": 62,
      "outputs": [
        {
          "data": {
            "text/plain": "9"
          },
          "execution_count": 62,
          "metadata": {},
          "output_type": "execute_result"
        }
      ]
    },
    {
      "metadata": {},
      "cell_type": "markdown",
      "source": "### 3) 변수명 규칙"
    },
    {
      "metadata": {},
      "cell_type": "markdown",
      "source": "- 변수의 이름은 문자, 숫자 그리고 Underscore(_)로만 이루어진다.\n- 변수명은 문자 또는 Underscore로만 시작해야 한다. 즉 숫자로 시작 하면 안된다.\n- 파이썬에서는 대문자와 소문자를 구분한다.\n- 파이썬 지정단어 (Keyword, Reserved word)들은 변수명으로 사용할 수 없다."
    },
    {
      "metadata": {
        "trusted": false
      },
      "cell_type": "code",
      "source": "money$ = 5",
      "execution_count": 63,
      "outputs": [
        {
          "ename": "SyntaxError",
          "evalue": "invalid syntax (<ipython-input-63-2be6f776a93c>, line 1)",
          "output_type": "error",
          "traceback": [
            "\u001b[0;36m  File \u001b[0;32m\"<ipython-input-63-2be6f776a93c>\"\u001b[0;36m, line \u001b[0;32m1\u001b[0m\n\u001b[0;31m    money$ = 5\u001b[0m\n\u001b[0m         ^\u001b[0m\n\u001b[0;31mSyntaxError\u001b[0m\u001b[0;31m:\u001b[0m invalid syntax\n"
          ]
        }
      ]
    },
    {
      "metadata": {
        "trusted": false
      },
      "cell_type": "code",
      "source": "7up = 7",
      "execution_count": 64,
      "outputs": [
        {
          "ename": "SyntaxError",
          "evalue": "invalid syntax (<ipython-input-64-83820ecc51a9>, line 1)",
          "output_type": "error",
          "traceback": [
            "\u001b[0;36m  File \u001b[0;32m\"<ipython-input-64-83820ecc51a9>\"\u001b[0;36m, line \u001b[0;32m1\u001b[0m\n\u001b[0;31m    7up = 7\u001b[0m\n\u001b[0m      ^\u001b[0m\n\u001b[0;31mSyntaxError\u001b[0m\u001b[0;31m:\u001b[0m invalid syntax\n"
          ]
        }
      ]
    },
    {
      "metadata": {
        "trusted": false
      },
      "cell_type": "code",
      "source": "hour = 3\nHour",
      "execution_count": 67,
      "outputs": [
        {
          "ename": "NameError",
          "evalue": "name 'Hour' is not defined",
          "output_type": "error",
          "traceback": [
            "\u001b[0;31m---------------------------------------------------------------------------\u001b[0m",
            "\u001b[0;31mNameError\u001b[0m                                 Traceback (most recent call last)",
            "\u001b[0;32m<ipython-input-67-c66523918099>\u001b[0m in \u001b[0;36m<module>\u001b[0;34m()\u001b[0m\n\u001b[1;32m      1\u001b[0m \u001b[0mhour\u001b[0m \u001b[0;34m=\u001b[0m \u001b[0;36m3\u001b[0m\u001b[0;34m\u001b[0m\u001b[0m\n\u001b[0;32m----> 2\u001b[0;31m \u001b[0mHour\u001b[0m\u001b[0;34m\u001b[0m\u001b[0m\n\u001b[0m",
            "\u001b[0;31mNameError\u001b[0m: name 'Hour' is not defined"
          ]
        }
      ]
    },
    {
      "metadata": {
        "trusted": false
      },
      "cell_type": "code",
      "source": "import keyword\nkeyword.kwlist",
      "execution_count": 68,
      "outputs": [
        {
          "data": {
            "text/plain": "['False',\n 'None',\n 'True',\n 'and',\n 'as',\n 'assert',\n 'break',\n 'class',\n 'continue',\n 'def',\n 'del',\n 'elif',\n 'else',\n 'except',\n 'finally',\n 'for',\n 'from',\n 'global',\n 'if',\n 'import',\n 'in',\n 'is',\n 'lambda',\n 'nonlocal',\n 'not',\n 'or',\n 'pass',\n 'raise',\n 'return',\n 'try',\n 'while',\n 'with',\n 'yield']"
          },
          "execution_count": 68,
          "metadata": {},
          "output_type": "execute_result"
        }
      ]
    },
    {
      "metadata": {},
      "cell_type": "markdown",
      "source": "## 5. 복합 대입 연산자"
    },
    {
      "metadata": {},
      "cell_type": "markdown",
      "source": "- a += 1\n- a -= 1\n- a *= 1\n- a /= 1\n- a // = 1\n- a %= 1\n- a **= 1"
    },
    {
      "metadata": {},
      "cell_type": "markdown",
      "source": "## [연습문제]"
    },
    {
      "metadata": {},
      "cell_type": "markdown",
      "source": "### 1) a,b에 각각 5,7 을 할당하고 곱셈을 한 값을 변수 result에 저장하여 출력하는 프로그램을 작성하라."
    },
    {
      "metadata": {
        "trusted": false
      },
      "cell_type": "code",
      "source": "",
      "execution_count": null,
      "outputs": []
    },
    {
      "metadata": {},
      "cell_type": "markdown",
      "source": "### 2) 다음 식의 몫과 나머지를 각각 다른 변수 portion, the_rest에 저장 시키는 프로그램을 작성하라."
    },
    {
      "metadata": {},
      "cell_type": "markdown",
      "source": " 123456 ÷ 789"
    },
    {
      "metadata": {
        "trusted": false
      },
      "cell_type": "code",
      "source": "",
      "execution_count": null,
      "outputs": []
    },
    {
      "metadata": {},
      "cell_type": "markdown",
      "source": "### 3) x,y에 각각 11,22를 할당하고, 그 후 숫자를 직접 이용하지 않고 다른 변수 z를 이용하여 두 수를 교환하는 프로그램을 작성하라."
    },
    {
      "metadata": {
        "trusted": false
      },
      "cell_type": "code",
      "source": "",
      "execution_count": null,
      "outputs": []
    },
    {
      "metadata": {},
      "cell_type": "markdown",
      "source": "### 4) 반지름(r)이 7인 원의 넓이(area)를 제곱을 이용하여 구하는 프로그램을 작성하라 (π=2.14)"
    },
    {
      "metadata": {
        "trusted": false
      },
      "cell_type": "code",
      "source": "",
      "execution_count": null,
      "outputs": []
    },
    {
      "metadata": {},
      "cell_type": "markdown",
      "source": "### 5) number1, number2, number3, number4에 각각 5,4,9,2를 할당하여 아래의 식을 계산하는 프로그램을 작성하라."
    },
    {
      "metadata": {},
      "cell_type": "markdown",
      "source": " (number1*number2)(number2-number3)(number3//number4)"
    },
    {
      "metadata": {
        "trusted": false
      },
      "cell_type": "code",
      "source": "",
      "execution_count": null,
      "outputs": []
    }
  ],
  "metadata": {
    "kernelspec": {
      "name": "python3",
      "display_name": "Python 3",
      "language": "python"
    },
    "language_info": {
      "mimetype": "text/x-python",
      "nbconvert_exporter": "python",
      "name": "python",
      "pygments_lexer": "ipython3",
      "version": "3.5.4",
      "file_extension": ".py",
      "codemirror_mode": {
        "version": 3,
        "name": "ipython"
      }
    }
  },
  "nbformat": 4,
  "nbformat_minor": 2
}