{
  "cells": [
    {
      "metadata": {},
      "cell_type": "markdown",
      "source": "# Unit 4. 데이터 구조(Data Structure)"
    },
    {
      "metadata": {},
      "cell_type": "markdown",
      "source": "## 4. 집합(set)"
    },
    {
      "metadata": {},
      "cell_type": "markdown",
      "source": "- 집합에 관련된 것들을 쉽게 처리하기 위해 만들어진 자료형"
    },
    {
      "metadata": {},
      "cell_type": "markdown",
      "source": "### 1) 집합 선언"
    },
    {
      "metadata": {},
      "cell_type": "markdown",
      "source": "- 집합명 = {요소1, 요소2, 요소3, ...}\n- 집합을 만들 때는 위에서 보는 것과 같이 중괄호({})로 감싸 주고 각 요소값들은 쉼표(,)로 구분\n- 요소는 변경할 수 없는 자료형을 사용"
    },
    {
      "metadata": {
        "trusted": true
      },
      "cell_type": "code",
      "source": "a = set()\na = ['I', 'you', 'she', 'he']\nc = [(1,2),(3,4)]\nd = {'string', 'summer', 'fall', 'winter', 1,2,3,4}",
      "execution_count": 2,
      "outputs": []
    },
    {
      "metadata": {},
      "cell_type": "markdown",
      "source": "- 집합 자료형은 set 키워드를 이용해 만들 수 있다.\n- set()의 괄호 안에 리스트나 문자열을 입력하여 만들 수 있다."
    },
    {
      "metadata": {
        "trusted": true
      },
      "cell_type": "code",
      "source": "s1 = set([1,2,3])\ns1",
      "execution_count": 3,
      "outputs": [
        {
          "output_type": "execute_result",
          "execution_count": 3,
          "data": {
            "text/plain": "{1, 2, 3}"
          },
          "metadata": {}
        }
      ]
    },
    {
      "metadata": {
        "trusted": true
      },
      "cell_type": "code",
      "source": "s2 = set('Hello')\ns2",
      "execution_count": 4,
      "outputs": [
        {
          "output_type": "execute_result",
          "execution_count": 4,
          "data": {
            "text/plain": "{'H', 'e', 'l', 'o'}"
          },
          "metadata": {}
        }
      ]
    },
    {
      "metadata": {},
      "cell_type": "markdown",
      "source": "- 중복을 허용하지 않는다.\n- 순서가 없다(Unordered).\n- 인덱싱으로 값을 얻을 수 없다."
    },
    {
      "metadata": {
        "trusted": true
      },
      "cell_type": "code",
      "source": "s1 = set([1,2,3])\nl1 = list(s1)\nprint(l1)\nprint(l1[0])\nt1 = tuple(s1)\nprint(t1)\nprint(t1[0])",
      "execution_count": 5,
      "outputs": [
        {
          "output_type": "stream",
          "text": "[1, 2, 3]\n1\n(1, 2, 3)\n1\n",
          "name": "stdout"
        }
      ]
    },
    {
      "metadata": {},
      "cell_type": "markdown",
      "source": "- 중복을 허용하지 않는 set의 특징은 자료형의 중복을 제거하기 위한 필터 역할로 사용할 수 있다."
    },
    {
      "metadata": {
        "trusted": true
      },
      "cell_type": "code",
      "source": "list(set([6,1,1,1,2,3,4,1,5,5,4]))",
      "execution_count": 6,
      "outputs": [
        {
          "data": {
            "text/plain": "[1, 2, 3, 4, 5, 6]"
          },
          "execution_count": 6,
          "metadata": {},
          "output_type": "execute_result"
        }
      ]
    },
    {
      "metadata": {},
      "cell_type": "markdown",
      "source": "### 2) 집합 연산"
    },
    {
      "metadata": {
        "trusted": true
      },
      "cell_type": "code",
      "source": "s1 = set([1,2,3,4,5,6])\ns2 = set([4,5,6,7,8,9])",
      "execution_count": 8,
      "outputs": []
    },
    {
      "metadata": {},
      "cell_type": "markdown",
      "source": "- 교집합"
    },
    {
      "metadata": {
        "scrolled": true,
        "trusted": true
      },
      "cell_type": "code",
      "source": "s1 & s2",
      "execution_count": 9,
      "outputs": [
        {
          "data": {
            "text/plain": "{4, 5, 6}"
          },
          "execution_count": 9,
          "metadata": {},
          "output_type": "execute_result"
        }
      ]
    },
    {
      "metadata": {
        "trusted": true
      },
      "cell_type": "code",
      "source": "s2 & s1",
      "execution_count": 10,
      "outputs": [
        {
          "data": {
            "text/plain": "{4, 5, 6}"
          },
          "execution_count": 10,
          "metadata": {},
          "output_type": "execute_result"
        }
      ]
    },
    {
      "metadata": {
        "trusted": true
      },
      "cell_type": "code",
      "source": "s1.intersection(s2)",
      "execution_count": 11,
      "outputs": [
        {
          "data": {
            "text/plain": "{4, 5, 6}"
          },
          "execution_count": 11,
          "metadata": {},
          "output_type": "execute_result"
        }
      ]
    },
    {
      "metadata": {
        "trusted": true
      },
      "cell_type": "code",
      "source": "s2.intersection(s1)",
      "execution_count": 12,
      "outputs": [
        {
          "data": {
            "text/plain": "{4, 5, 6}"
          },
          "execution_count": 12,
          "metadata": {},
          "output_type": "execute_result"
        }
      ]
    },
    {
      "metadata": {},
      "cell_type": "markdown",
      "source": "- 합집합"
    },
    {
      "metadata": {
        "trusted": true
      },
      "cell_type": "code",
      "source": "s1 | s2",
      "execution_count": 13,
      "outputs": [
        {
          "data": {
            "text/plain": "{1, 2, 3, 4, 5, 6, 7, 8, 9}"
          },
          "execution_count": 13,
          "metadata": {},
          "output_type": "execute_result"
        }
      ]
    },
    {
      "metadata": {
        "trusted": true
      },
      "cell_type": "code",
      "source": "s2 | s1",
      "execution_count": 15,
      "outputs": [
        {
          "data": {
            "text/plain": "{1, 2, 3, 4, 5, 6, 7, 8, 9}"
          },
          "execution_count": 15,
          "metadata": {},
          "output_type": "execute_result"
        }
      ]
    },
    {
      "metadata": {
        "trusted": true
      },
      "cell_type": "code",
      "source": "s1.union(s2)",
      "execution_count": 16,
      "outputs": [
        {
          "data": {
            "text/plain": "{1, 2, 3, 4, 5, 6, 7, 8, 9}"
          },
          "execution_count": 16,
          "metadata": {},
          "output_type": "execute_result"
        }
      ]
    },
    {
      "metadata": {
        "trusted": true
      },
      "cell_type": "code",
      "source": "s2.union(s1)",
      "execution_count": 17,
      "outputs": [
        {
          "data": {
            "text/plain": "{1, 2, 3, 4, 5, 6, 7, 8, 9}"
          },
          "execution_count": 17,
          "metadata": {},
          "output_type": "execute_result"
        }
      ]
    },
    {
      "metadata": {},
      "cell_type": "markdown",
      "source": "- 차집합"
    },
    {
      "metadata": {
        "trusted": true
      },
      "cell_type": "code",
      "source": "s1 - s2",
      "execution_count": 18,
      "outputs": [
        {
          "data": {
            "text/plain": "{1, 2, 3}"
          },
          "execution_count": 18,
          "metadata": {},
          "output_type": "execute_result"
        }
      ]
    },
    {
      "metadata": {
        "scrolled": true,
        "trusted": true
      },
      "cell_type": "code",
      "source": "s2 - s1",
      "execution_count": 19,
      "outputs": [
        {
          "data": {
            "text/plain": "{7, 8, 9}"
          },
          "execution_count": 19,
          "metadata": {},
          "output_type": "execute_result"
        }
      ]
    },
    {
      "metadata": {
        "scrolled": true,
        "trusted": true
      },
      "cell_type": "code",
      "source": "s1.difference(s2)",
      "execution_count": 20,
      "outputs": [
        {
          "data": {
            "text/plain": "{1, 2, 3}"
          },
          "execution_count": 20,
          "metadata": {},
          "output_type": "execute_result"
        }
      ]
    },
    {
      "metadata": {
        "trusted": true
      },
      "cell_type": "code",
      "source": "s1.difference(s2)",
      "execution_count": 21,
      "outputs": [
        {
          "data": {
            "text/plain": "{1, 2, 3}"
          },
          "execution_count": 21,
          "metadata": {},
          "output_type": "execute_result"
        }
      ]
    },
    {
      "metadata": {},
      "cell_type": "markdown",
      "source": "### 3) 집합 관련 함수들"
    },
    {
      "metadata": {},
      "cell_type": "markdown",
      "source": "- Mutable한 자료형"
    },
    {
      "metadata": {},
      "cell_type": "markdown",
      "source": "- add : 값 1개 추가하기"
    },
    {
      "metadata": {
        "trusted": true
      },
      "cell_type": "code",
      "source": "s1 = set([1,2,3])\ns1.add(4)\ns1",
      "execution_count": 6,
      "outputs": [
        {
          "output_type": "execute_result",
          "execution_count": 6,
          "data": {
            "text/plain": "{1, 2, 3, 4}"
          },
          "metadata": {}
        }
      ]
    },
    {
      "metadata": {},
      "cell_type": "markdown",
      "source": "- update : 값 여러 개 추가하기"
    },
    {
      "metadata": {
        "trusted": true,
        "scrolled": true
      },
      "cell_type": "code",
      "source": "s1 = set([1,2,3])\ns1.update([4,5,6])\ns1",
      "execution_count": 22,
      "outputs": [
        {
          "data": {
            "text/plain": "{1, 2, 3, 4, 5, 6}"
          },
          "execution_count": 22,
          "metadata": {},
          "output_type": "execute_result"
        }
      ]
    },
    {
      "metadata": {},
      "cell_type": "markdown",
      "source": "- remove : 특정 값 제거하기"
    },
    {
      "metadata": {
        "trusted": true
      },
      "cell_type": "code",
      "source": "s1 = set([1,2,3])\ns1.remove(2)\ns1",
      "execution_count": 26,
      "outputs": [
        {
          "data": {
            "text/plain": "{1, 3}"
          },
          "execution_count": 26,
          "metadata": {},
          "output_type": "execute_result"
        }
      ]
    },
    {
      "metadata": {
        "trusted": true
      },
      "cell_type": "code",
      "source": "",
      "execution_count": null,
      "outputs": []
    }
  ],
  "metadata": {
    "kernelspec": {
      "name": "python3",
      "display_name": "Python 3",
      "language": "python"
    },
    "language_info": {
      "mimetype": "text/x-python",
      "nbconvert_exporter": "python",
      "name": "python",
      "pygments_lexer": "ipython3",
      "version": "3.5.4",
      "file_extension": ".py",
      "codemirror_mode": {
        "version": 3,
        "name": "ipython"
      }
    }
  },
  "nbformat": 4,
  "nbformat_minor": 2
}