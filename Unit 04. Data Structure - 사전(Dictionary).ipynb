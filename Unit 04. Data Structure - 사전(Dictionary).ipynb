{
 "cells": [
  {
   "cell_type": "markdown",
   "metadata": {},
   "source": [
    "# Unit 4. 데이터 구조(Data Structure)"
   ]
  },
  {
   "cell_type": "markdown",
   "metadata": {},
   "source": [
    "## 3. 딕셔너리(dictionary)"
   ]
  },
  {
   "cell_type": "markdown",
   "metadata": {},
   "source": [
    "- 사전과 비슷한 형식의 자료형"
   ]
  },
  {
   "cell_type": "markdown",
   "metadata": {},
   "source": [
    "### 1) 딕셔너리 선언"
   ]
  },
  {
   "cell_type": "markdown",
   "metadata": {},
   "source": [
    "- 딕셔너리명 = {요소1, 요소2, 요소3, ...}\n",
    "- 딕셔너리를 만들 때는 위에서 보는 것과 같이 중괄호({})로 감싸 주고 각 요소값들은 쉼표(,)로 구분\n",
    "- 요소는 한 쌍의 Key : Value 형태 {Key1:Value1, Key2:Value2, Key3:Value3, ...}\n",
    "- Key에는 변경할 수 없는 자료형을 사용하고, Value에는 모든 자료형을 사용\n",
    "- Key를 통해 Value를 얻음"
   ]
  },
  {
   "cell_type": "code",
   "execution_count": 9,
   "metadata": {},
   "outputs": [
    {
     "data": {
      "text/plain": [
       "'pey'"
      ]
     },
     "execution_count": 9,
     "metadata": {},
     "output_type": "execute_result"
    }
   ],
   "source": [
    "dic = {'name':'pey',\n",
    "       'phone':'01012345678',\n",
    "       'birth':'2000-01-01'\n",
    "      }\n",
    "dic['name']"
   ]
  },
  {
   "cell_type": "markdown",
   "metadata": {},
   "source": [
    "- Key는 각각 'name', 'phone', 'birth'\n",
    "- 각각의 Key에 해당하는 Value는 'pey', '0119993323', '1118'"
   ]
  },
  {
   "cell_type": "markdown",
   "metadata": {},
   "source": [
    "- list를 Key값으로 사용한 경우"
   ]
  },
  {
   "cell_type": "markdown",
   "metadata": {},
   "source": [
    "- tuple을 Key값으로 사용한 경우"
   ]
  },
  {
   "cell_type": "code",
   "execution_count": 11,
   "metadata": {},
   "outputs": [
    {
     "data": {
      "text/plain": [
       "{('떡볶이', '김밥'): '3000원', ('라면', '만두'): '4000원'}"
      ]
     },
     "execution_count": 11,
     "metadata": {},
     "output_type": "execute_result"
    }
   ],
   "source": [
    "price = {('떡볶이', '김밥'):'3000원', ('라면', '만두'):'4000원'}\n",
    "price"
   ]
  },
  {
   "cell_type": "markdown",
   "metadata": {},
   "source": [
    "### 2) 딕셔너리 사용 방법"
   ]
  },
  {
   "cell_type": "markdown",
   "metadata": {},
   "source": [
    "- Key를 통해 Value를 얻음\n",
    "- 어떤 Key의 Value를 얻기 위해서는 딕셔너리명[Key]를 사용"
   ]
  },
  {
   "cell_type": "code",
   "execution_count": 12,
   "metadata": {},
   "outputs": [
    {
     "name": "stdout",
     "output_type": "stream",
     "text": [
      "10\n",
      "99\n"
     ]
    }
   ],
   "source": [
    "grade = {'pey': 10, 'julie': 99}\n",
    "print(grade['pey'])\n",
    "print(grade['julie'])"
   ]
  },
  {
   "cell_type": "code",
   "execution_count": 20,
   "metadata": {},
   "outputs": [
    {
     "name": "stdout",
     "output_type": "stream",
     "text": [
      "1\n",
      "2\n"
     ]
    }
   ],
   "source": [
    "a = {'a':1, 'b':2 }\n",
    "print(a['a'])\n",
    "print(a['b'])"
   ]
  },
  {
   "cell_type": "markdown",
   "metadata": {},
   "source": [
    "- Key는 고유한 값이므로 중복되는 Key 값을 설정해 놓으면 하나를 제외한 나머지 것들이 모두 무시된다.\n",
    "- 동일한 Key가 존재하면 어떤 Key에 해당하는 Value를 불러야 할지 알 수 없다.\n",
    "- 어떤 Key 값이 무시될지 예측할 수 없다."
   ]
  },
  {
   "cell_type": "markdown",
   "metadata": {},
   "source": [
    "- 딕셔너리 요소 추가하기"
   ]
  },
  {
   "cell_type": "code",
   "execution_count": 22,
   "metadata": {},
   "outputs": [
    {
     "data": {
      "text/plain": [
       "{1: 'a', 2: 'b'}"
      ]
     },
     "execution_count": 22,
     "metadata": {},
     "output_type": "execute_result"
    }
   ],
   "source": [
    "a = {1:'a'}\n",
    "a[2] = 'b'\n",
    "a"
   ]
  },
  {
   "cell_type": "markdown",
   "metadata": {},
   "source": [
    "- 딕셔너리 요소 삭제하기"
   ]
  },
  {
   "cell_type": "markdown",
   "metadata": {},
   "source": [
    "### 3) 딕셔너리 관련 함수들"
   ]
  },
  {
   "cell_type": "markdown",
   "metadata": {},
   "source": [
    "- keys : Key 리스트 만들기"
   ]
  },
  {
   "cell_type": "code",
   "execution_count": 23,
   "metadata": {},
   "outputs": [
    {
     "data": {
      "text/plain": [
       "dict_keys(['name', 'phone', 'birth'])"
      ]
     },
     "execution_count": 23,
     "metadata": {},
     "output_type": "execute_result"
    }
   ],
   "source": [
    "a = {'name':'pey', 'phone':'010-1234-5678', 'birth':'2000-00-00'}\n",
    "a.keys()"
   ]
  },
  {
   "cell_type": "markdown",
   "metadata": {},
   "source": [
    "- 딕셔너리 a의 Key만을 모아서 dict_keys라는 객체를 리턴\n",
    "- 리스트를 사용하는 것과 차이가 없지만, 리스트 고유의 함수인 append, insert, pop, remove, sort등의 함수를 수행할 수는 없다."
   ]
  },
  {
   "cell_type": "markdown",
   "metadata": {},
   "source": [
    "- dict_keys 객체를 리스트로 변환하기"
   ]
  },
  {
   "cell_type": "markdown",
   "metadata": {},
   "source": [
    "- values : Value 리스트 만들기"
   ]
  },
  {
   "cell_type": "code",
   "execution_count": 24,
   "metadata": {},
   "outputs": [
    {
     "data": {
      "text/plain": [
       "dict_values(['pey', '010-1234-5678', '2000-00-00'])"
      ]
     },
     "execution_count": 24,
     "metadata": {},
     "output_type": "execute_result"
    }
   ],
   "source": [
    "a.values()"
   ]
  },
  {
   "cell_type": "markdown",
   "metadata": {},
   "source": [
    "- items : (Key, Value) 리스트 만들기"
   ]
  },
  {
   "cell_type": "markdown",
   "metadata": {},
   "source": [
    "- clear : 요소 모두 지우기"
   ]
  },
  {
   "cell_type": "markdown",
   "metadata": {},
   "source": [
    "- get : Key로 Value얻기"
   ]
  },
  {
   "cell_type": "code",
   "execution_count": 25,
   "metadata": {},
   "outputs": [
    {
     "name": "stdout",
     "output_type": "stream",
     "text": [
      "pey\n",
      "010-1234-5678\n"
     ]
    }
   ],
   "source": [
    "a = {'name':'pey', 'phone':'010-1234-5678', 'birth':'2000-00-00'}\n",
    "print(a.get('name'))\n",
    "print(a.get('phone'))"
   ]
  },
  {
   "cell_type": "markdown",
   "metadata": {},
   "source": [
    "- in : Key가 딕셔너리 안에 있는지 조사하기"
   ]
  }
 ],
 "metadata": {
  "kernelspec": {
   "display_name": "Python 3",
   "language": "python",
   "name": "python3"
  },
  "language_info": {
   "codemirror_mode": {
    "name": "ipython",
    "version": 3
   },
   "file_extension": ".py",
   "mimetype": "text/x-python",
   "name": "python",
   "nbconvert_exporter": "python",
   "pygments_lexer": "ipython3",
   "version": "3.7.1"
  }
 },
 "nbformat": 4,
 "nbformat_minor": 2
}
