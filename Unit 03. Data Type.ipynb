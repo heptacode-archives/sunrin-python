{
  "cells": [
    {
      "metadata": {},
      "cell_type": "markdown",
      "source": "# Unit 3. 자료형(Data Type)"
    },
    {
      "metadata": {},
      "cell_type": "markdown",
      "source": "## 1. 숫자형(Numbers)"
    },
    {
      "metadata": {},
      "cell_type": "markdown",
      "source": "### 1) 정수형(inteager)"
    },
    {
      "metadata": {},
      "cell_type": "markdown",
      "source": "- int : 양의 정수와 음의 정수, 숫자 0"
    },
    {
      "metadata": {},
      "cell_type": "markdown",
      "source": "### 2) 실수형(float)"
    },
    {
      "metadata": {},
      "cell_type": "markdown",
      "source": "- float : 소수점이 포함된 숫자"
    },
    {
      "metadata": {},
      "cell_type": "markdown",
      "source": "- type() : 인수(argument)의 자료형(type)을 반환"
    },
    {
      "metadata": {
        "trusted": false
      },
      "cell_type": "code",
      "source": "type(7)",
      "execution_count": 3,
      "outputs": [
        {
          "data": {
            "text/plain": "int"
          },
          "execution_count": 3,
          "metadata": {},
          "output_type": "execute_result"
        }
      ]
    },
    {
      "metadata": {
        "trusted": false
      },
      "cell_type": "code",
      "source": "type(3.14)",
      "execution_count": 4,
      "outputs": [
        {
          "data": {
            "text/plain": "float"
          },
          "execution_count": 4,
          "metadata": {},
          "output_type": "execute_result"
        }
      ]
    },
    {
      "metadata": {},
      "cell_type": "markdown",
      "source": "- int() : 정수(int)형으로 강제 형 변환"
    },
    {
      "metadata": {},
      "cell_type": "markdown",
      "source": "- float() : 실수(float)형으로 강제 형 변환"
    },
    {
      "metadata": {
        "trusted": false
      },
      "cell_type": "code",
      "source": "int(3.14)",
      "execution_count": 5,
      "outputs": [
        {
          "data": {
            "text/plain": "3"
          },
          "execution_count": 5,
          "metadata": {},
          "output_type": "execute_result"
        }
      ]
    },
    {
      "metadata": {
        "trusted": false
      },
      "cell_type": "code",
      "source": "float(3)",
      "execution_count": 6,
      "outputs": [
        {
          "data": {
            "text/plain": "3.0"
          },
          "execution_count": 6,
          "metadata": {},
          "output_type": "execute_result"
        }
      ]
    },
    {
      "metadata": {},
      "cell_type": "markdown",
      "source": "## 2. 문자열(String)"
    },
    {
      "metadata": {},
      "cell_type": "markdown",
      "source": "- 문자들의 집합, 문자들의 연속\n- 따옴표(quote)로 둘러싸여 있으면 모두 문자열"
    },
    {
      "metadata": {},
      "cell_type": "markdown",
      "source": "- '' : 문자열 내에 \"\" 포함하는 경우\n- \"\" : 문자열 내에 '' 포함하는 경우\n- ''' : 여러 문장을 사용하고 문자열 내에 \"\" 포함하는 경우\n- \"\"\" : 여러 문장을 사용하고 문자열 내에 '' 포함하는 경우"
    },
    {
      "metadata": {
        "trusted": false
      },
      "cell_type": "code",
      "source": "'\"He is a smart boy.\" my teacher said.'",
      "execution_count": 9,
      "outputs": [
        {
          "data": {
            "text/plain": "'\"He is a smart boy.\" my teacher said.'"
          },
          "execution_count": 9,
          "metadata": {},
          "output_type": "execute_result"
        }
      ]
    },
    {
      "metadata": {
        "trusted": false
      },
      "cell_type": "code",
      "source": "\"He's a smart boy.\"",
      "execution_count": 10,
      "outputs": [
        {
          "data": {
            "text/plain": "\"He's a smart boy.\""
          },
          "execution_count": 10,
          "metadata": {},
          "output_type": "execute_result"
        }
      ]
    },
    {
      "metadata": {},
      "cell_type": "markdown",
      "source": "### 1) 문자열 병합(Concatenation)"
    },
    {
      "metadata": {},
      "cell_type": "markdown",
      "source": "- “문자열” + “문자열” + ... + “문자열” : 각 문자열을 병합하여 하나의 문자열로 생성"
    },
    {
      "metadata": {
        "trusted": false
      },
      "cell_type": "code",
      "source": "start = '=========='\ntitle = 'Python Program'\nfinish = '=========='\nstart + title + finish",
      "execution_count": 12,
      "outputs": [
        {
          "data": {
            "text/plain": "'==========Python Program=========='"
          },
          "execution_count": 12,
          "metadata": {},
          "output_type": "execute_result"
        }
      ]
    },
    {
      "metadata": {},
      "cell_type": "markdown",
      "source": "### 2) 문자열 반복(Iteration)"
    },
    {
      "metadata": {},
      "cell_type": "markdown",
      "source": "- “문자열” * n (n은 정수) : 문자열을 n만큼 반복하여 하나의 문자열로 생성"
    },
    {
      "metadata": {
        "trusted": false
      },
      "cell_type": "code",
      "source": "start = '=' * 10\ntitle = 'Python Program'\nfinish = '=' * 10\nstart + title + finish",
      "execution_count": 14,
      "outputs": [
        {
          "data": {
            "text/plain": "'==========Python Program=========='"
          },
          "execution_count": 14,
          "metadata": {},
          "output_type": "execute_result"
        }
      ]
    },
    {
      "metadata": {},
      "cell_type": "markdown",
      "source": "- len(문자열) : 문자열의 길이(크기)를 반환"
    },
    {
      "metadata": {
        "trusted": false
      },
      "cell_type": "code",
      "source": "#Python에서는 공백(space)도 문자로 취급\n#길이 측정 시 공백(space) 또한 문자열의 길이(크기)에 속함\n\nlen('I am a boy')",
      "execution_count": 17,
      "outputs": [
        {
          "data": {
            "text/plain": "10"
          },
          "execution_count": 17,
          "metadata": {},
          "output_type": "execute_result"
        }
      ]
    },
    {
      "metadata": {},
      "cell_type": "markdown",
      "source": "- str() : 문자열형 객체를 반환"
    },
    {
      "metadata": {
        "trusted": false
      },
      "cell_type": "code",
      "source": "a = str(1)\nb = str(1.0)\nprint(a)\nprint(type(a))\nprint(b)\nprint(type(b))",
      "execution_count": 3,
      "outputs": [
        {
          "name": "stdout",
          "output_type": "stream",
          "text": "1\n<class 'str'>\n1.0\n<class 'str'>\n"
        }
      ]
    },
    {
      "metadata": {},
      "cell_type": "markdown",
      "source": "### 3) 문자열 인덱싱(Indexing)"
    },
    {
      "metadata": {},
      "cell_type": "markdown",
      "source": "- 문자열[인덱스] : 인덱스에 해당하는 문자를 반환\n- 인덱스는 0부터 시작\n- 공백도 인덱스 부여\n- 음수 인덱스는 뒤에서부터 접근(-1은 뒤에서 첫 번째, -3은 뒤에서 세 번째)"
    },
    {
      "metadata": {
        "trusted": false
      },
      "cell_type": "code",
      "source": "a = 'Life is too short'\nprint(a[0])\nprint(a[1])\nprint(a[4])\nprint(a[-0])\nprint(a[-1])",
      "execution_count": 3,
      "outputs": [
        {
          "name": "stdout",
          "output_type": "stream",
          "text": "L\ni\n \nL\nt\n"
        }
      ]
    },
    {
      "metadata": {
        "trusted": false
      },
      "cell_type": "code",
      "source": "print(len(a))\n#print(a[17])\n#print(a[-18])",
      "execution_count": 9,
      "outputs": [
        {
          "name": "stdout",
          "output_type": "stream",
          "text": "17\n"
        }
      ]
    },
    {
      "metadata": {},
      "cell_type": "markdown",
      "source": "### 4) 문자열 슬라이싱(Slicing)"
    },
    {
      "metadata": {},
      "cell_type": "markdown",
      "source": "- 문자열[시작 인덱스:끝 인덱스] : 시작 인덱스~끝 인덱스-1에 해당하는 문자를 반환"
    },
    {
      "metadata": {
        "trusted": false
      },
      "cell_type": "code",
      "source": "a[0:4]",
      "execution_count": 10,
      "outputs": [
        {
          "data": {
            "text/plain": "'Life'"
          },
          "execution_count": 10,
          "metadata": {},
          "output_type": "execute_result"
        }
      ]
    },
    {
      "metadata": {},
      "cell_type": "markdown",
      "source": "- 문자열[:끝 인덱스] : 처음부터 끝 인덱스-1까지 slice\n- 문자열[시작 인덱스:] : 시작 인덱스부터 끝까지 slice\n- 문자열[:] : 처음부터 끝까지 slice"
    },
    {
      "metadata": {
        "trusted": false
      },
      "cell_type": "code",
      "source": "print(a[:7])\nprint(a[7:])\nprint(a[:])",
      "execution_count": 11,
      "outputs": [
        {
          "name": "stdout",
          "output_type": "stream",
          "text": "Life is\n too short\nLife is too short\n"
        }
      ]
    },
    {
      "metadata": {
        "trusted": false
      },
      "cell_type": "code",
      "source": "print(a[:-1])\nprint(a[:-2])",
      "execution_count": 13,
      "outputs": [
        {
          "name": "stdout",
          "output_type": "stream",
          "text": "Life is too shor\nLife is too sho\n"
        }
      ]
    },
    {
      "metadata": {
        "trusted": false
      },
      "cell_type": "code",
      "source": "print(a[:999])\nprint(a[-999:])",
      "execution_count": 16,
      "outputs": [
        {
          "name": "stdout",
          "output_type": "stream",
          "text": "Life is too short\nLife is too short\n"
        }
      ]
    },
    {
      "metadata": {
        "trusted": false
      },
      "cell_type": "code",
      "source": "today = '20190326Sunny'\ndate = today[:8]\nweather = today[8:]\nyear = date[:4]\nmonth = date[4:6]\nday = date[6:]\nprint(year, month, day, weather)",
      "execution_count": 18,
      "outputs": [
        {
          "name": "stdout",
          "output_type": "stream",
          "text": "2019 03 26 Sunny\n"
        }
      ]
    },
    {
      "metadata": {},
      "cell_type": "markdown",
      "source": "### 5) Immutable한 자료형"
    },
    {
      "metadata": {},
      "cell_type": "markdown",
      "source": "- 문자열의 요소값은 바꿀 수 없다"
    },
    {
      "metadata": {
        "trusted": false
      },
      "cell_type": "code",
      "source": "a[0] = 'l'",
      "execution_count": 19,
      "outputs": [
        {
          "ename": "TypeError",
          "evalue": "'str' object does not support item assignment",
          "output_type": "error",
          "traceback": [
            "\u001b[0;31m---------------------------------------------------------------------------\u001b[0m",
            "\u001b[0;31mTypeError\u001b[0m                                 Traceback (most recent call last)",
            "\u001b[0;32m<ipython-input-19-24746fa06516>\u001b[0m in \u001b[0;36m<module>\u001b[0;34m()\u001b[0m\n\u001b[0;32m----> 1\u001b[0;31m \u001b[0ma\u001b[0m\u001b[0;34m[\u001b[0m\u001b[0;36m0\u001b[0m\u001b[0;34m]\u001b[0m \u001b[0;34m=\u001b[0m \u001b[0;34m'l'\u001b[0m\u001b[0;34m\u001b[0m\u001b[0m\n\u001b[0m",
            "\u001b[0;31mTypeError\u001b[0m: 'str' object does not support item assignment"
          ]
        }
      ]
    },
    {
      "metadata": {
        "scrolled": true,
        "trusted": false
      },
      "cell_type": "code",
      "source": "print('l' + a[1:])",
      "execution_count": 20,
      "outputs": [
        {
          "name": "stdout",
          "output_type": "stream",
          "text": "life is too short\n"
        }
      ]
    },
    {
      "metadata": {},
      "cell_type": "markdown",
      "source": "### 6) 문자열 구성요소 확인"
    },
    {
      "metadata": {},
      "cell_type": "markdown",
      "source": "- in : 문자열의 요소인가를 확인하는 연산자\n- not in : 문자열의 요소가 아닌 요소를 확인하는 연산자"
    },
    {
      "metadata": {
        "scrolled": true,
        "trusted": false
      },
      "cell_type": "code",
      "source": "print('p' in 'python')\nprint('j' in 'python')\nprint('p' not in 'python')\nprint('j' not in 'python')",
      "execution_count": 4,
      "outputs": [
        {
          "name": "stdout",
          "output_type": "stream",
          "text": "True\nFalse\nFalse\nTrue\n"
        }
      ]
    },
    {
      "metadata": {
        "scrolled": true,
        "trusted": false
      },
      "cell_type": "code",
      "source": "print('I ate %d apples. so I was sick for %s days.' %(3, 'three'))",
      "execution_count": 1,
      "outputs": [
        {
          "name": "stdout",
          "output_type": "stream",
          "text": "I ate 3 apples. so I was sick for three days.\n"
        }
      ]
    },
    {
      "metadata": {
        "scrolled": true,
        "trusted": false
      },
      "cell_type": "code",
      "source": "print('I ate %s apples.' %(3))",
      "execution_count": 2,
      "outputs": [
        {
          "name": "stdout",
          "output_type": "stream",
          "text": "I ate 3 apples.\n"
        }
      ]
    },
    {
      "metadata": {
        "scrolled": true,
        "trusted": false
      },
      "cell_type": "code",
      "source": "print('I ate {0} apples.' .format(3, 'three'))",
      "execution_count": 4,
      "outputs": [
        {
          "name": "stdout",
          "output_type": "stream",
          "text": "I ate 3 apples.\n"
        }
      ]
    },
    {
      "metadata": {
        "scrolled": true,
        "trusted": false
      },
      "cell_type": "code",
      "source": "number = 3\nday = 'three'\nprint('I ate {} apples, so I was sick for {} days' .format(number, day))",
      "execution_count": 10,
      "outputs": [
        {
          "name": "stdout",
          "output_type": "stream",
          "text": "I ate 3 apples, so I was sick for three days\n"
        }
      ]
    },
    {
      "metadata": {
        "trusted": false
      },
      "cell_type": "code",
      "source": "#find(x)는 문자열 중에서 문자 x가 있으면 처음으로 나온 위치를 반환\na = 'Python is the best choice.'\nprint(a.find('b'))\nprint(a.find('d'))",
      "execution_count": 12,
      "outputs": [
        {
          "name": "stdout",
          "output_type": "stream",
          "text": "14\n-1\n"
        }
      ]
    },
    {
      "metadata": {},
      "cell_type": "markdown",
      "source": "upper : 소문자를 대문자로 바꾸기"
    },
    {
      "metadata": {},
      "cell_type": "markdown",
      "source": "replace : 문자열 바꾸기"
    },
    {
      "metadata": {
        "trusted": false
      },
      "cell_type": "code",
      "source": "a = 'Life is too short'\na.replace('Life', 'Your leg')",
      "execution_count": 14,
      "outputs": [
        {
          "data": {
            "text/plain": "'Your leg is too short'"
          },
          "execution_count": 14,
          "metadata": {},
          "output_type": "execute_result"
        }
      ]
    },
    {
      "metadata": {},
      "cell_type": "markdown",
      "source": "split : 문자열 나누기"
    },
    {
      "metadata": {
        "trusted": false
      },
      "cell_type": "code",
      "source": "a = 'Life is too short'\na.split()",
      "execution_count": 15,
      "outputs": [
        {
          "data": {
            "text/plain": "['Life', 'is', 'too', 'short']"
          },
          "execution_count": 15,
          "metadata": {},
          "output_type": "execute_result"
        }
      ]
    },
    {
      "metadata": {},
      "cell_type": "markdown",
      "source": "join : 문자열 Join"
    },
    {
      "metadata": {},
      "cell_type": "markdown",
      "source": "- strip : 양쪽 공백 지우기\n- lstrip : 왼쪽 공백 지우기\n- rstrip : 오른쪽 공백 지우기"
    },
    {
      "metadata": {
        "trusted": false
      },
      "cell_type": "code",
      "source": "a = '                  hi              '\na.strip()",
      "execution_count": 22,
      "outputs": [
        {
          "data": {
            "text/plain": "'hi'"
          },
          "execution_count": 22,
          "metadata": {},
          "output_type": "execute_result"
        }
      ]
    },
    {
      "metadata": {
        "trusted": false
      },
      "cell_type": "code",
      "source": "a = '                  hi              '\na.lstrip()",
      "execution_count": 20,
      "outputs": [
        {
          "data": {
            "text/plain": "'hi              '"
          },
          "execution_count": 20,
          "metadata": {},
          "output_type": "execute_result"
        }
      ]
    },
    {
      "metadata": {
        "scrolled": true,
        "trusted": false
      },
      "cell_type": "code",
      "source": "a = '                  hi              '\na.rstrip()",
      "execution_count": 21,
      "outputs": [
        {
          "data": {
            "text/plain": "'                  hi'"
          },
          "execution_count": 21,
          "metadata": {},
          "output_type": "execute_result"
        }
      ]
    },
    {
      "metadata": {
        "trusted": false
      },
      "cell_type": "code",
      "source": "a = '----------hi----------'\na.strip('-')",
      "execution_count": 24,
      "outputs": [
        {
          "data": {
            "text/plain": "'hi'"
          },
          "execution_count": 24,
          "metadata": {},
          "output_type": "execute_result"
        }
      ]
    },
    {
      "metadata": {},
      "cell_type": "markdown",
      "source": "## 3. 부울형(Boolean)"
    },
    {
      "metadata": {},
      "cell_type": "markdown",
      "source": "- True : ‘참’을 의미\n- False : ‘거짓’을 의미"
    },
    {
      "metadata": {
        "trusted": false
      },
      "cell_type": "code",
      "source": "a = True\ntype(a)",
      "execution_count": 3,
      "outputs": [
        {
          "data": {
            "text/plain": "bool"
          },
          "execution_count": 3,
          "metadata": {},
          "output_type": "execute_result"
        }
      ]
    },
    {
      "metadata": {
        "trusted": false
      },
      "cell_type": "code",
      "source": "a = TRUE\ntype(a)",
      "execution_count": 4,
      "outputs": [
        {
          "ename": "NameError",
          "evalue": "name 'TRUE' is not defined",
          "output_type": "error",
          "traceback": [
            "\u001b[0;31m---------------------------------------------------------------------------\u001b[0m",
            "\u001b[0;31mNameError\u001b[0m                                 Traceback (most recent call last)",
            "\u001b[0;32m<ipython-input-4-7a1c7110c1f9>\u001b[0m in \u001b[0;36m<module>\u001b[0;34m()\u001b[0m\n\u001b[0;32m----> 1\u001b[0;31m \u001b[0ma\u001b[0m \u001b[0;34m=\u001b[0m \u001b[0mTRUE\u001b[0m\u001b[0;34m\u001b[0m\u001b[0m\n\u001b[0m\u001b[1;32m      2\u001b[0m \u001b[0mtype\u001b[0m\u001b[0;34m(\u001b[0m\u001b[0ma\u001b[0m\u001b[0;34m)\u001b[0m\u001b[0;34m\u001b[0m\u001b[0m\n",
            "\u001b[0;31mNameError\u001b[0m: name 'TRUE' is not defined"
          ]
        }
      ]
    },
    {
      "metadata": {},
      "cell_type": "markdown",
      "source": "### 1) 비교 연산자"
    },
    {
      "metadata": {},
      "cell_type": "markdown",
      "source": "- 두 변수들의 값을 비교하기 위한 연산자\n- 결과로 Boolean값을 제공"
    },
    {
      "metadata": {},
      "cell_type": "markdown",
      "source": "- == : 같다\n- != : 다르다\n- > : 크다\n- < : 작다\n- >= : 크거나 같다\n- <= : 작거나 같다"
    },
    {
      "metadata": {},
      "cell_type": "markdown",
      "source": "### 2) 논리 연산자"
    },
    {
      "metadata": {},
      "cell_type": "markdown",
      "source": "- Boolean형 값들의 연산자\n- 조건문이 하나 이상의 조건들을 포함하는 경우에 사용\n- 결과로 Boolean형 반환"
    },
    {
      "metadata": {},
      "cell_type": "markdown",
      "source": "- and : 그리고\n- or : 또는\n- not : 부정"
    },
    {
      "metadata": {
        "trusted": false
      },
      "cell_type": "code",
      "source": "p = True\nq = True\nprint(p and q)\nprint(p or q)\nprint(not p)\nprint(not q)",
      "execution_count": 6,
      "outputs": [
        {
          "name": "stdout",
          "output_type": "stream",
          "text": "True\nTrue\nFalse\nFalse\n"
        }
      ]
    },
    {
      "metadata": {
        "trusted": false
      },
      "cell_type": "code",
      "source": "p = True\nq = False\nprint(p and q)\nprint(p or q)\nprint(not p)\nprint(not q)",
      "execution_count": 7,
      "outputs": [
        {
          "name": "stdout",
          "output_type": "stream",
          "text": "False\nTrue\nFalse\nTrue\n"
        }
      ]
    },
    {
      "metadata": {
        "trusted": false
      },
      "cell_type": "code",
      "source": "p = False\nq = True\nprint(p and q)\nprint(p or q)\nprint(not p)\nprint(not q)",
      "execution_count": 8,
      "outputs": [
        {
          "name": "stdout",
          "output_type": "stream",
          "text": "False\nTrue\nTrue\nFalse\n"
        }
      ]
    },
    {
      "metadata": {
        "trusted": false
      },
      "cell_type": "code",
      "source": "p = False\nq = False\nprint(p and q)\nprint(p or q)\nprint(not p)\nprint(not q)",
      "execution_count": 9,
      "outputs": [
        {
          "name": "stdout",
          "output_type": "stream",
          "text": "False\nFalse\nTrue\nTrue\n"
        }
      ]
    },
    {
      "metadata": {},
      "cell_type": "markdown",
      "source": "### 3) False값과 동일한 취급을 받는 값들"
    },
    {
      "metadata": {},
      "cell_type": "markdown",
      "source": "- 0 : 숫자0\n- '' : 빈 문자열\n- [] : 빈 리스트\n- () : 빈 튜플\n- {} : 빈 딕셔너리\n- None"
    },
    {
      "metadata": {},
      "cell_type": "markdown",
      "source": "- bool() : 부울 값(즉, True 또는 False 중 하나)을 반환"
    },
    {
      "metadata": {
        "trusted": false
      },
      "cell_type": "code",
      "source": "bool(0)",
      "execution_count": 16,
      "outputs": [
        {
          "data": {
            "text/plain": "False"
          },
          "execution_count": 16,
          "metadata": {},
          "output_type": "execute_result"
        }
      ]
    },
    {
      "metadata": {
        "trusted": false
      },
      "cell_type": "code",
      "source": "bool(1)",
      "execution_count": 17,
      "outputs": [
        {
          "data": {
            "text/plain": "True"
          },
          "execution_count": 17,
          "metadata": {},
          "output_type": "execute_result"
        }
      ]
    },
    {
      "metadata": {
        "trusted": false
      },
      "cell_type": "code",
      "source": "bool(-1)",
      "execution_count": 18,
      "outputs": [
        {
          "data": {
            "text/plain": "True"
          },
          "execution_count": 18,
          "metadata": {},
          "output_type": "execute_result"
        }
      ]
    },
    {
      "metadata": {
        "trusted": false
      },
      "cell_type": "code",
      "source": "bool(3.14)",
      "execution_count": 19,
      "outputs": [
        {
          "data": {
            "text/plain": "True"
          },
          "execution_count": 19,
          "metadata": {},
          "output_type": "execute_result"
        }
      ]
    },
    {
      "metadata": {
        "trusted": false
      },
      "cell_type": "code",
      "source": "bool('')",
      "execution_count": 20,
      "outputs": [
        {
          "data": {
            "text/plain": "False"
          },
          "execution_count": 20,
          "metadata": {},
          "output_type": "execute_result"
        }
      ]
    },
    {
      "metadata": {
        "trusted": false
      },
      "cell_type": "code",
      "source": "bool('0')",
      "execution_count": 21,
      "outputs": [
        {
          "data": {
            "text/plain": "True"
          },
          "execution_count": 21,
          "metadata": {},
          "output_type": "execute_result"
        }
      ]
    },
    {
      "metadata": {},
      "cell_type": "markdown",
      "source": "## [연습문제]"
    },
    {
      "metadata": {},
      "cell_type": "markdown",
      "source": "### 1. 거리(D)와 시간(T)를 입력하여 속도(S)를 구하는 프로그램을 작성하라."
    },
    {
      "metadata": {
        "trusted": false
      },
      "cell_type": "code",
      "source": "",
      "execution_count": null,
      "outputs": []
    },
    {
      "metadata": {},
      "cell_type": "markdown",
      "source": "### 2. 두 좌표 (x1,x1), (x2,x2)에 각각 (3,5), (-1,4)을 입력하여 직각삼각형의 넓이(area)를 구하는 프로그램을 작성하라."
    },
    {
      "metadata": {
        "trusted": false
      },
      "cell_type": "code",
      "source": "",
      "execution_count": null,
      "outputs": []
    },
    {
      "metadata": {},
      "cell_type": "markdown",
      "source": "### 3. 사용자가 x의 값을 입력하게 하여 입력한 x만큼 @를 표시하는 프로그램을 작성하라."
    },
    {
      "metadata": {
        "trusted": false
      },
      "cell_type": "code",
      "source": "",
      "execution_count": null,
      "outputs": []
    },
    {
      "metadata": {},
      "cell_type": "markdown",
      "source": "### 4. 'last_name을 입력하시오.' 'first_name을 입력하시오.' 출력 뒤 각각 해당하는 내용을 입력하여 fullname으로 출력하는 프로그램을 작성하라."
    },
    {
      "metadata": {
        "trusted": false
      },
      "cell_type": "code",
      "source": "",
      "execution_count": null,
      "outputs": []
    },
    {
      "metadata": {},
      "cell_type": "markdown",
      "source": "### 5. '시각을 입력하시오.' '분을 입력하시오.' '초를 입력하시오.' 출력 뒤 각각 해당하는 내용을 입력하여 초 단위로 알려주는 프로그램을 작성하라."
    },
    {
      "metadata": {
        "trusted": false
      },
      "cell_type": "code",
      "source": "",
      "execution_count": null,
      "outputs": []
    },
    {
      "metadata": {},
      "cell_type": "markdown",
      "source": "### 6. 숫자를 입력받아서 2의 배수인지의 여부를 flag에 할당하는 프로그램을 작성하라."
    },
    {
      "metadata": {
        "trusted": false
      },
      "cell_type": "code",
      "source": "",
      "execution_count": null,
      "outputs": []
    },
    {
      "metadata": {},
      "cell_type": "markdown",
      "source": "### 7. 어느 회사의 입사 조건은 토익 점수가 800점 이상이거나 교양 영어에서 A학점이 만족되어야 지원 가능하다. 길동이는 토익이 900점이고 교양 영어는 B학점이다. 길동이가 이 회사에 지원이 가능한지 여부를 Boolean식을 사용하여 확인하는 프로그램을 작성하라."
    },
    {
      "metadata": {
        "trusted": false
      },
      "cell_type": "code",
      "source": "#길동의 토익 점수 = 900\n# 길동의 영어 학점 = 'B'\n# (길동의 토익 점수>=800) and (길동의 영어 학점 == 'A')",
      "execution_count": 22,
      "outputs": []
    }
  ],
  "metadata": {
    "kernelspec": {
      "name": "python3",
      "display_name": "Python 3",
      "language": "python"
    },
    "language_info": {
      "mimetype": "text/x-python",
      "nbconvert_exporter": "python",
      "name": "python",
      "pygments_lexer": "ipython3",
      "version": "3.5.4",
      "file_extension": ".py",
      "codemirror_mode": {
        "version": 3,
        "name": "ipython"
      }
    }
  },
  "nbformat": 4,
  "nbformat_minor": 2
}