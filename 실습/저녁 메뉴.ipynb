{
  "cells": [
    {
      "metadata": {},
      "cell_type": "markdown",
      "source": "# 저녁 메뉴"
    },
    {
      "metadata": {
        "trusted": true
      },
      "cell_type": "code",
      "source": "동전의면 = input()\nif 동전의면 == '앞' :\n    print('중국 요리')\nelse:\n    print('일본 요리')",
      "execution_count": null,
      "outputs": []
    },
    {
      "metadata": {
        "trusted": true
      },
      "cell_type": "code",
      "source": "",
      "execution_count": null,
      "outputs": []
    }
  ],
  "metadata": {
    "kernelspec": {
      "name": "python3",
      "display_name": "Python 3",
      "language": "python"
    },
    "language_info": {
      "mimetype": "text/x-python",
      "nbconvert_exporter": "python",
      "name": "python",
      "file_extension": ".py",
      "version": "3.5.4",
      "pygments_lexer": "ipython3",
      "codemirror_mode": {
        "version": 3,
        "name": "ipython"
      }
    }
  },
  "nbformat": 4,
  "nbformat_minor": 1
}