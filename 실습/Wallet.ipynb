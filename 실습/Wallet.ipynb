{
  "cells": [
    {
      "metadata": {
        "trusted": true
      },
      "cell_type": "code",
      "source": "class Wallet:\n    balance = 0\n    def __init__(self, name):\n        self.holder = name\n        print(self.holder)\n    def check(self):\n        print(self.holder, self.balance)\n    def deposit(self, amount):\n        self.balance += amount\n        print('Balance : ', self.balance)\n    def withdraw(self, amount):\n        if self.balance - amount > 0:\n            self.balance -= amount\n            print('Balance : ', self.balance)\n        else:\n            print('No MONEY')",
      "execution_count": 81,
      "outputs": []
    }
  ],
  "metadata": {
    "kernelspec": {
      "name": "python2",
      "display_name": "Python 2",
      "language": "python"
    },
    "language_info": {
      "mimetype": "text/x-python",
      "nbconvert_exporter": "python",
      "name": "python",
      "pygments_lexer": "ipython2",
      "version": "2.7.15",
      "file_extension": ".py",
      "codemirror_mode": {
        "version": 2,
        "name": "ipython"
      }
    }
  },
  "nbformat": 4,
  "nbformat_minor": 1
}