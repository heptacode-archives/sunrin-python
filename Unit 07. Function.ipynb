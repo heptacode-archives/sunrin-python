{
  "cells": [
    {
      "metadata": {},
      "cell_type": "markdown",
      "source": "# Unit 7. 함수(funtion)"
    },
    {
      "metadata": {},
      "cell_type": "markdown",
      "source": "## 1. 함수란?"
    },
    {
      "metadata": {},
      "cell_type": "markdown",
      "source": "- 크고 복잡한 문제는 작고 간단한 문제로 나누어 해결해야 한다.\n- 함수 : 작고 간단한 문제를 해결하는 작은 프로그램"
    },
    {
      "metadata": {},
      "cell_type": "markdown",
      "source": "### 1) 왜 함수를 사용할까?"
    },
    {
      "metadata": {},
      "cell_type": "markdown",
      "source": "- 문장을 그룹으로 만들어 새로운 함수로 명명하는 것이 프로그램을 읽고, 이해하고, 디버그하기 편리하다.\n- 긴 프로그램을 함수로 나누어 작성하면 작은 부분에서 버그를 수정할 수 있고, 이를 조합해서 전체적으로 동작하는 프로그램을 만들 수 있다.\n- 함수는 반복 코드를 제거해서 프로그램을 작고 콤팩트하게 만든다. 나중에 프로그램에 수정사항이 생기면, 단지 한 곳만 수정하면 된다.\n- 잘 설계된 함수를 작성하고 디버그를 통해 오류가 없이 만들면, 나중에 재사용도 용이하다."
    },
    {
      "metadata": {},
      "cell_type": "markdown",
      "source": "### 2) 함수 정의"
    },
    {
      "metadata": {},
      "cell_type": "markdown",
      "source": "- 어떤 작업을 수행하는 코드를 모아 이름을 붙이는 것"
    },
    {
      "metadata": {
        "collapsed": true,
        "trusted": false
      },
      "cell_type": "code",
      "source": "def 함수명(매개변수):\n    수행할 문장1\n    수행할 문장2\n    수행할 문장3\n    ...",
      "execution_count": null,
      "outputs": []
    },
    {
      "metadata": {},
      "cell_type": "markdown",
      "source": "- 매개변수(parameter) : 함수에 전달된 데이터(입력)를 받는 변수\n- 인자(argument) : 함수를 호출할 때 함수에 전달하는 데이터(입력 값)"
    },
    {
      "metadata": {
        "trusted": true
      },
      "cell_type": "code",
      "source": "def add(a, b):\n    return a + b",
      "execution_count": 9,
      "outputs": []
    },
    {
      "metadata": {},
      "cell_type": "markdown",
      "source": "### 3) 함수 호출"
    },
    {
      "metadata": {},
      "cell_type": "markdown",
      "source": "- 함수의 이름을 불러 함수의 내용을 실행시키는 것"
    },
    {
      "metadata": {
        "trusted": true
      },
      "cell_type": "code",
      "source": "add(3, 4)",
      "execution_count": 10,
      "outputs": [
        {
          "output_type": "execute_result",
          "execution_count": 10,
          "data": {
            "text/plain": "7"
          },
          "metadata": {}
        }
      ]
    },
    {
      "metadata": {},
      "cell_type": "markdown",
      "source": "- 함수를 호출하면 함수에 전달한 인자(데이터)가 함수 속의 매개변수에 대입된다.\n- 함수 본문의 수행할 문장이 차례대로 실행된다.\n- 함수 실행이 종료되고, 함수의 실행 결과가 반환된다."
    },
    {
      "metadata": {},
      "cell_type": "markdown",
      "source": "## 2. 반환(return)"
    },
    {
      "metadata": {},
      "cell_type": "markdown",
      "source": "- 함수가 값을 반환한다. : 함수를 실행한 결과값을 자신을 호출한 지점으로 되돌려준다."
    },
    {
      "metadata": {},
      "cell_type": "markdown",
      "source": "### 1) return문"
    },
    {
      "metadata": {},
      "cell_type": "markdown",
      "source": "- return문을 실행하면 함수의 실행이 종료되고, 지정한 값이 함수가 호출된 지점으로 반환된다.\n- return문을 가지지 않는 함수는 끝까지 실행된 뒤에 None을 반환한다."
    },
    {
      "metadata": {
        "collapsed": true,
        "trusted": false
      },
      "cell_type": "code",
      "source": "def 함수명(매개변수):\n    수행할 문장1\n    수행할 문장2\n    수행할 문장3\n    ...\n    return 반환값",
      "execution_count": null,
      "outputs": []
    },
    {
      "metadata": {},
      "cell_type": "markdown",
      "source": "### 2) 반환값의 개수"
    },
    {
      "metadata": {},
      "cell_type": "markdown",
      "source": "- 함수의 반환값은 언제나 1개이다."
    },
    {
      "metadata": {
        "trusted": true
      },
      "cell_type": "code",
      "source": "def add_and_mul(a, b):\n    return a + b, a * b",
      "execution_count": 11,
      "outputs": []
    },
    {
      "metadata": {
        "trusted": true
      },
      "cell_type": "code",
      "source": "result = add_and_mul(3, 4)\nresult",
      "execution_count": 14,
      "outputs": [
        {
          "output_type": "execute_result",
          "execution_count": 14,
          "data": {
            "text/plain": "(7, 12)"
          },
          "metadata": {}
        }
      ]
    },
    {
      "metadata": {},
      "cell_type": "markdown",
      "source": "## 3. 매개변수(parameter)"
    },
    {
      "metadata": {},
      "cell_type": "markdown",
      "source": "### 1) 매개변수 지정하여 호출하기"
    },
    {
      "metadata": {},
      "cell_type": "markdown",
      "source": "- 인자를 전달받을 매개변수를 명시할 수 있다."
    },
    {
      "metadata": {
        "trusted": true
      },
      "cell_type": "code",
      "source": "def sub(a, b):\n    return a - b",
      "execution_count": 19,
      "outputs": []
    },
    {
      "metadata": {
        "trusted": true
      },
      "cell_type": "code",
      "source": "result = sub(a=3, b=7)\nresult",
      "execution_count": 20,
      "outputs": [
        {
          "output_type": "execute_result",
          "execution_count": 20,
          "data": {
            "text/plain": "-4"
          },
          "metadata": {}
        }
      ]
    },
    {
      "metadata": {
        "trusted": true
      },
      "cell_type": "code",
      "source": "result = add(a=7, b=3)\nresult",
      "execution_count": 21,
      "outputs": [
        {
          "output_type": "execute_result",
          "execution_count": 21,
          "data": {
            "text/plain": "10"
          },
          "metadata": {}
        }
      ]
    },
    {
      "metadata": {},
      "cell_type": "markdown",
      "source": "- 매개변수를 지정하여 사용하면 순서에 상관없이 사용할 수 있다."
    },
    {
      "metadata": {},
      "cell_type": "markdown",
      "source": "### 2) 매개변수 기본값 정의하기"
    },
    {
      "metadata": {},
      "cell_type": "markdown",
      "source": "- 매개변수에 기본값을 지정할 수 있다.\n- 매개변수에 기본값을 지정해두면 인자 전달을 생략할 수 있다."
    },
    {
      "metadata": {
        "trusted": true
      },
      "cell_type": "code",
      "source": "def divide(number, by=2):\n    return number/by",
      "execution_count": 26,
      "outputs": []
    },
    {
      "metadata": {
        "trusted": true
      },
      "cell_type": "code",
      "source": "result = divide(12)\nresult",
      "execution_count": 27,
      "outputs": [
        {
          "output_type": "execute_result",
          "execution_count": 27,
          "data": {
            "text/plain": "6.0"
          },
          "metadata": {}
        }
      ]
    },
    {
      "metadata": {
        "trusted": true
      },
      "cell_type": "code",
      "source": "result = divide(12, 3)\nresult",
      "execution_count": 29,
      "outputs": [
        {
          "output_type": "execute_result",
          "execution_count": 29,
          "data": {
            "text/plain": "4.0"
          },
          "metadata": {}
        }
      ]
    },
    {
      "metadata": {},
      "cell_type": "markdown",
      "source": "- 매개변수에 값을 전달할 때는 위치를 기준으로 한다.\n- 더 앞에 있는 매개변수에 기본값을 지정했다면 뒤에 있는 변수에도 기본값을 지정해야 한다.\n- 그렇지 않으면 함수를 호출할 때 어떤 매개변수를 생략한 것인지 알 수 없다."
    },
    {
      "metadata": {
        "trusted": true
      },
      "cell_type": "code",
      "source": "def multiple(a=2, b):\n    return a * b",
      "execution_count": 31,
      "outputs": [
        {
          "output_type": "error",
          "ename": "SyntaxError",
          "evalue": "non-default argument follows default argument (<ipython-input-31-8560c4a1c68a>, line 1)",
          "traceback": [
            "\u001b[0;36m  File \u001b[0;32m\"<ipython-input-31-8560c4a1c68a>\"\u001b[0;36m, line \u001b[0;32m1\u001b[0m\n\u001b[0;31m    def multiple(a=2, b):\u001b[0m\n\u001b[0m                ^\u001b[0m\n\u001b[0;31mSyntaxError\u001b[0m\u001b[0;31m:\u001b[0m non-default argument follows default argument\n"
          ]
        }
      ]
    },
    {
      "metadata": {},
      "cell_type": "markdown",
      "source": "### 3) 인자의 개수를 모르는 경우"
    },
    {
      "metadata": {},
      "cell_type": "markdown",
      "source": "- 패킹(packing)"
    },
    {
      "metadata": {
        "trusted": true
      },
      "cell_type": "code",
      "source": "def add_many(*args):\n    result = 0\n    for i in args:\n        result += i\n    return result",
      "execution_count": 33,
      "outputs": []
    },
    {
      "metadata": {
        "trusted": true
      },
      "cell_type": "code",
      "source": "def add_many2(args):\n    result = 0\n    result += args\n    return result\n\nadd_many()",
      "execution_count": null,
      "outputs": []
    },
    {
      "metadata": {
        "trusted": true
      },
      "cell_type": "code",
      "source": "add_many(1,2)",
      "execution_count": 34,
      "outputs": [
        {
          "output_type": "execute_result",
          "execution_count": 34,
          "data": {
            "text/plain": "3"
          },
          "metadata": {}
        }
      ]
    },
    {
      "metadata": {
        "trusted": true
      },
      "cell_type": "code",
      "source": "add_many(1,2,4)",
      "execution_count": 36,
      "outputs": [
        {
          "output_type": "execute_result",
          "execution_count": 36,
          "data": {
            "text/plain": "7"
          },
          "metadata": {}
        }
      ]
    },
    {
      "metadata": {
        "trusted": true
      },
      "cell_type": "code",
      "source": "add_many(1,2,3,4,5,6,7,8,9,10)",
      "execution_count": 37,
      "outputs": [
        {
          "output_type": "execute_result",
          "execution_count": 37,
          "data": {
            "text/plain": "55"
          },
          "metadata": {}
        }
      ]
    },
    {
      "metadata": {},
      "cell_type": "markdown",
      "source": "- 매개변수명 앞에 *을 붙이면 입력값들을 전부 모아서 튜플로 만든다."
    },
    {
      "metadata": {},
      "cell_type": "markdown",
      "source": "- 매개변수명 앞에 **을 붙이면 매개변수 kwargs는 딕셔너리가 되고 모든 key=value 형태의 입력인수가 그 딕셔너리에 저장된다."
    },
    {
      "metadata": {
        "trusted": true
      },
      "cell_type": "code",
      "source": "def print_kwargs(**kwargs):\n    print(kwargs)",
      "execution_count": 39,
      "outputs": []
    },
    {
      "metadata": {
        "trusted": true
      },
      "cell_type": "code",
      "source": "print_kwargs(a=1)\nprint_kwargs(name='foo', age=31)",
      "execution_count": 41,
      "outputs": [
        {
          "output_type": "stream",
          "text": "{'a': 1}\n{'name': 'foo', 'age': 31}\n",
          "name": "stdout"
        }
      ]
    },
    {
      "metadata": {},
      "cell_type": "markdown",
      "source": "- 언패킹(unpacking)"
    },
    {
      "metadata": {
        "trusted": true
      },
      "cell_type": "code",
      "source": "def add_many(*args):\n    print (args)\n    return sum(args)",
      "execution_count": 42,
      "outputs": []
    },
    {
      "metadata": {
        "trusted": true
      },
      "cell_type": "code",
      "source": "list1 = [1,2,3,4,5,6,7,8,9,10]\nadd_many(*list1)",
      "execution_count": 46,
      "outputs": [
        {
          "output_type": "stream",
          "text": "(1, 2, 3, 4, 5, 6, 7, 8, 9, 10)\n",
          "name": "stdout"
        },
        {
          "output_type": "execute_result",
          "execution_count": 46,
          "data": {
            "text/plain": "55"
          },
          "metadata": {}
        }
      ]
    },
    {
      "metadata": {
        "trusted": true
      },
      "cell_type": "markdown",
      "source": "# 4. 람다식(lambda calculus)"
    },
    {
      "metadata": {},
      "cell_type": "markdown",
      "source": "- 이름 없는 함수(간단한 일회용 함수)\n- 입력과 출력이 있는 간단한 한 줄자리 함수를 만들 때 사용\n- lambda 매개변수 1,2,3, ,,, : 매개변수를 이용한 표현식(반환 값)"
    },
    {
      "metadata": {
        "trusted": true
      },
      "cell_type": "code",
      "source": "lambda x : x + 1",
      "execution_count": 1,
      "outputs": [
        {
          "output_type": "execute_result",
          "execution_count": 1,
          "data": {
            "text/plain": "<function __main__.<lambda>>"
          },
          "metadata": {}
        }
      ]
    },
    {
      "metadata": {
        "trusted": true
      },
      "cell_type": "code",
      "source": "def f(x):\n    return x + 1",
      "execution_count": 2,
      "outputs": []
    },
    {
      "metadata": {
        "trusted": true
      },
      "cell_type": "code",
      "source": "add = lambda a, b : a + b\nresult = add(3,4)\nprint(result)",
      "execution_count": 3,
      "outputs": [
        {
          "output_type": "stream",
          "text": "7\n",
          "name": "stdout"
        }
      ]
    },
    {
      "metadata": {},
      "cell_type": "markdown",
      "source": "# 5. "
    },
    {
      "metadata": {},
      "cell_type": "markdown",
      "source": "# 6. 외장함수"
    },
    {
      "metadata": {
        "trusted": true
      },
      "cell_type": "code",
      "source": "",
      "execution_count": null,
      "outputs": []
    }
  ],
  "metadata": {
    "kernelspec": {
      "name": "python3",
      "display_name": "Python 3",
      "language": "python"
    },
    "language_info": {
      "mimetype": "text/x-python",
      "nbconvert_exporter": "python",
      "name": "python",
      "file_extension": ".py",
      "version": "3.5.4",
      "pygments_lexer": "ipython3",
      "codemirror_mode": {
        "version": 3,
        "name": "ipython"
      }
    }
  },
  "nbformat": 4,
  "nbformat_minor": 2
}