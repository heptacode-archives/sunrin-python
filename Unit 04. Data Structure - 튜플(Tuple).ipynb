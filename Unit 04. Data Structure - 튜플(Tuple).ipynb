{
  "cells": [
    {
      "metadata": {},
      "cell_type": "markdown",
      "source": "# Unit 4. 데이터 구조(Data Structure)"
    },
    {
      "metadata": {},
      "cell_type": "markdown",
      "source": "## 2. 튜플(tuple)"
    },
    {
      "metadata": {},
      "cell_type": "markdown",
      "source": "### 1) 튜플 선언"
    },
    {
      "metadata": {},
      "cell_type": "markdown",
      "source": "- 튜플명 = (요소1, 요소2, 요소3, ...)\n- 튜플을 만들 때는 위에서 보는 것과 같이 소괄호(())로 감싸 주고 각 요소값들은 쉼표(,)로 구분\n- 튜플 안에는 어떠한 자료형도 포함시킬 수 있다."
    },
    {
      "metadata": {
        "trusted": true
      },
      "cell_type": "code",
      "source": "t1 = ()\nt2 = (1,)\nt3 = (1,2,3)\nt4 = 1,2,3\nt5 = ('a', 'b', ('ab','cd'))",
      "execution_count": 1,
      "outputs": []
    },
    {
      "metadata": {},
      "cell_type": "markdown",
      "source": "- 비어 있는 튜플은 t1 = tuple()로 생성할 수도 있다.\n- t2 = (1,)처럼 단지 1개의 요소만을 가질 때는 요소 뒤에 콤마(,)를 반드시 붙여야 한다.\n- t4 = 1, 2, 3처럼 괄호()를 생략해도 무방하다."
    },
    {
      "metadata": {
        "trusted": true
      },
      "cell_type": "code",
      "source": "t = (1,)\ntype(t)",
      "execution_count": 2,
      "outputs": [
        {
          "output_type": "execute_result",
          "execution_count": 2,
          "data": {
            "text/plain": "tuple"
          },
          "metadata": {}
        }
      ]
    },
    {
      "metadata": {},
      "cell_type": "markdown",
      "source": "tuple() : string형과 list형 기반의 tuple 생성"
    },
    {
      "metadata": {
        "trusted": false
      },
      "cell_type": "code",
      "source": "s1 = 'March'\nt1 = tuple(s1)\nprint(t1)",
      "execution_count": 1,
      "outputs": [
        {
          "name": "stdout",
          "output_type": "stream",
          "text": "('M', 'a', 'r', 'c', 'h')\n"
        }
      ]
    },
    {
      "metadata": {
        "trusted": false
      },
      "cell_type": "code",
      "source": "l1 = ['March', 'April', 'May']\nt1 = tuple(l1)\nprint(t1)",
      "execution_count": 4,
      "outputs": [
        {
          "name": "stdout",
          "output_type": "stream",
          "text": "('March', 'April', 'May')\n"
        }
      ]
    },
    {
      "metadata": {},
      "cell_type": "markdown",
      "source": "### 2) 튜플과 리스트의 차이점"
    },
    {
      "metadata": {},
      "cell_type": "markdown",
      "source": "#### Immutable한 자료형\n- 원소 삽입, 삭제, 교체, 수정 불가능"
    },
    {
      "metadata": {
        "trusted": true
      },
      "cell_type": "code",
      "source": "t1 = (1, 2, 'a', 'b')\ndel t1[0]",
      "execution_count": 7,
      "outputs": [
        {
          "output_type": "error",
          "ename": "TypeError",
          "evalue": "'tuple' object doesn't support item deletion",
          "traceback": [
            "\u001b[0;31m---------------------------------------------------------------------------\u001b[0m",
            "\u001b[0;31mTypeError\u001b[0m                                 Traceback (most recent call last)",
            "\u001b[0;32m<ipython-input-7-f66ca102cafc>\u001b[0m in \u001b[0;36m<module>\u001b[0;34m()\u001b[0m\n\u001b[1;32m      1\u001b[0m \u001b[0mt1\u001b[0m \u001b[0;34m=\u001b[0m \u001b[0;34m(\u001b[0m\u001b[0;36m1\u001b[0m\u001b[0;34m,\u001b[0m \u001b[0;36m2\u001b[0m\u001b[0;34m,\u001b[0m \u001b[0;34m'a'\u001b[0m\u001b[0;34m,\u001b[0m \u001b[0;34m'b'\u001b[0m\u001b[0;34m)\u001b[0m\u001b[0;34m\u001b[0m\u001b[0m\n\u001b[0;32m----> 2\u001b[0;31m \u001b[0;32mdel\u001b[0m \u001b[0mt1\u001b[0m\u001b[0;34m[\u001b[0m\u001b[0;36m0\u001b[0m\u001b[0;34m]\u001b[0m\u001b[0;34m\u001b[0m\u001b[0m\n\u001b[0m",
            "\u001b[0;31mTypeError\u001b[0m: 'tuple' object doesn't support item deletion"
          ]
        }
      ]
    },
    {
      "metadata": {},
      "cell_type": "markdown",
      "source": "### 3) 튜플과 리스트의 공통점"
    },
    {
      "metadata": {},
      "cell_type": "markdown",
      "source": "#### 튜플 병합"
    },
    {
      "metadata": {
        "trusted": false
      },
      "cell_type": "code",
      "source": "t1 = (1, 2, 'a', 'b')\nt2 = (3,4)\nt1 + t2",
      "execution_count": 6,
      "outputs": [
        {
          "data": {
            "text/plain": "(1, 2, 'a', 'b', 3, 4)"
          },
          "execution_count": 6,
          "metadata": {},
          "output_type": "execute_result"
        }
      ]
    },
    {
      "metadata": {},
      "cell_type": "markdown",
      "source": "#### 튜플 반복"
    },
    {
      "metadata": {
        "trusted": false
      },
      "cell_type": "code",
      "source": "t2 * 3",
      "execution_count": 7,
      "outputs": [
        {
          "data": {
            "text/plain": "(3, 4, 3, 4, 3, 4)"
          },
          "execution_count": 7,
          "metadata": {},
          "output_type": "execute_result"
        }
      ]
    },
    {
      "metadata": {},
      "cell_type": "markdown",
      "source": "#### 튜플 인덱싱"
    },
    {
      "metadata": {
        "trusted": false
      },
      "cell_type": "code",
      "source": "t1[3]",
      "execution_count": 8,
      "outputs": [
        {
          "data": {
            "text/plain": "'b'"
          },
          "execution_count": 8,
          "metadata": {},
          "output_type": "execute_result"
        }
      ]
    },
    {
      "metadata": {},
      "cell_type": "markdown",
      "source": "#### 튜플 슬라이싱"
    },
    {
      "metadata": {
        "trusted": false
      },
      "cell_type": "code",
      "source": "t1[1:]",
      "execution_count": 9,
      "outputs": [
        {
          "data": {
            "text/plain": "(2, 'a', 'b')"
          },
          "execution_count": 9,
          "metadata": {},
          "output_type": "execute_result"
        }
      ]
    },
    {
      "metadata": {},
      "cell_type": "markdown",
      "source": "#### 튜플 관련 함수들"
    },
    {
      "metadata": {
        "trusted": false
      },
      "cell_type": "code",
      "source": "t1 = (0,1,2,3,4,5,6,7,8,9)\nprint(len(t1))\nprint(max(t1))\nprint(min(t1))\nprint(sum(t1))",
      "execution_count": 1,
      "outputs": [
        {
          "name": "stdout",
          "output_type": "stream",
          "text": "10\n9\n0\n45\n"
        }
      ]
    },
    {
      "metadata": {
        "trusted": false
      },
      "cell_type": "code",
      "source": "",
      "execution_count": null,
      "outputs": []
    }
  ],
  "metadata": {
    "kernelspec": {
      "name": "python3",
      "display_name": "Python 3",
      "language": "python"
    },
    "language_info": {
      "mimetype": "text/x-python",
      "nbconvert_exporter": "python",
      "name": "python",
      "pygments_lexer": "ipython3",
      "version": "3.5.4",
      "file_extension": ".py",
      "codemirror_mode": {
        "version": 3,
        "name": "ipython"
      }
    }
  },
  "nbformat": 4,
  "nbformat_minor": 2
}