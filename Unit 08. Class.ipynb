{
  "cells": [
    {
      "metadata": {},
      "cell_type": "markdown",
      "source": "## 1. 클래스"
    },
    {
      "metadata": {},
      "cell_type": "markdown",
      "source": "- 클래스 : 붕어빵틀\n- 객체 : 붕어빵틀에 의해 만들어진 붕어빵"
    },
    {
      "metadata": {},
      "cell_type": "markdown",
      "source": "### 1) class문"
    },
    {
      "metadata": {
        "trusted": false
      },
      "cell_type": "code",
      "source": "class Cake: #클래스 정의\n    #변수\n    #메서드\n    pass\n\na = Cake() #객체 생성\nb = Cake() #객체 생성",
      "execution_count": 1,
      "outputs": []
    },
    {
      "metadata": {
        "trusted": false
      },
      "cell_type": "code",
      "source": "print(Cake)",
      "execution_count": 2,
      "outputs": [
        {
          "name": "stdout",
          "output_type": "stream",
          "text": "<class '__main__.Cake'>\n"
        }
      ]
    },
    {
      "metadata": {},
      "cell_type": "markdown",
      "source": "- 클래스의 이름을 출력하면 정의한 클래스를 확인할 수 있다.\n- Cake라는 이름 앞에 붙은 \\_\\_main__은 이 클래스가 정의된 모듈을 의미한다."
    },
    {
      "metadata": {
        "trusted": false
      },
      "cell_type": "code",
      "source": "print(type(3)) #3은 int라는 데이터유형이고 int는 클래스로 정의되어있다.\nprint(type(Cake)) #Cake 클래스는 type이라는 데이터유형이고 type은 클래스로 정의되어있다.\nprint(type(a)) #a객체는 Cake라는 데이터유형이다.",
      "execution_count": 5,
      "outputs": [
        {
          "name": "stdout",
          "output_type": "stream",
          "text": "<class 'int'>\n<class 'type'>\n<class '__main__.Cake'>\n"
        }
      ]
    },
    {
      "metadata": {},
      "cell_type": "markdown",
      "source": "- 3은 int 클래스의 인스턴스이다.\n- Cake 클래스는 type 클래스의 인스턴스이다.\n- a 객체는 \\_\\_main__.Cake 클래스의 인스턴스이다."
    },
    {
      "metadata": {},
      "cell_type": "markdown",
      "source": "- 파이썬에서 클래스의 데이터타입은 type(메타클래스)\n- 파이썬에서 클래스는 객체가 될 수 있다."
    },
    {
      "metadata": {},
      "cell_type": "markdown",
      "source": "### 2) 변수(속성)"
    },
    {
      "metadata": {},
      "cell_type": "markdown",
      "source": "- 클래스와 인스턴스 전체가 공유하는 특성\n- 클래스 변수 : 클래스의 전체 특성을 나타내는 정보. 클래스 속에 정의된 이름이며 클래스에 속하는 인스턴스가 공유한다.\n- 인스턴스 변수 : 인스턴스의 고유한 특성을 나타내는 정보. 인스턴스 속에 정의된 이름이며 인스턴스마다 각자 따로 갖는다."
    },
    {
      "metadata": {
        "scrolled": true,
        "trusted": false
      },
      "cell_type": "code",
      "source": "Cake.coat = '생크림' #클래스변수\nprint(Cake.coat)\nprint(a.coat)\nprint(b.coat)",
      "execution_count": 8,
      "outputs": [
        {
          "name": "stdout",
          "output_type": "stream",
          "text": "생크림\n생크림\n생크림\n"
        }
      ]
    },
    {
      "metadata": {
        "scrolled": true,
        "trusted": false
      },
      "cell_type": "code",
      "source": "Cake.coat = '초콜릿'\nprint(Cake.coat)\nprint(a.coat)\nprint(b.coat)",
      "execution_count": 9,
      "outputs": [
        {
          "name": "stdout",
          "output_type": "stream",
          "text": "초콜릿\n초콜릿\n초콜릿\n"
        }
      ]
    },
    {
      "metadata": {
        "scrolled": true,
        "trusted": false
      },
      "cell_type": "code",
      "source": "a.topping = '블루베리' #인스턴스변수\nprint(a.topping)\n#print(b.topping)\n#print(Cake.topping)",
      "execution_count": 13,
      "outputs": [
        {
          "name": "stdout",
          "output_type": "stream",
          "text": "블루베리\n"
        }
      ]
    },
    {
      "metadata": {
        "trusted": false
      },
      "cell_type": "code",
      "source": "b.coat = '생크림' #인스턴스변수\nprint(Cake.coat)\nprint(a.coat)\nprint(b.coat)\nCake.coat = '커피'\nprint(Cake.coat)\nprint(a.coat)\nprint(b.coat)",
      "execution_count": 15,
      "outputs": [
        {
          "name": "stdout",
          "output_type": "stream",
          "text": "초콜릿\n초콜릿\n생크림\n커피\n커피\n생크림\n"
        }
      ]
    },
    {
      "metadata": {},
      "cell_type": "markdown",
      "source": "### 3) 메서드(method) : 클래스 안에 구현된 함수"
    },
    {
      "metadata": {
        "trusted": false
      },
      "cell_type": "code",
      "source": "class Cake:\n    coat = '생크림'\n    def f(self):\n        print(self.coat, '케이크입니다.')\n        \na = Cake()\na.f()",
      "execution_count": 21,
      "outputs": [
        {
          "name": "stdout",
          "output_type": "stream",
          "text": "생크림 케이크입니다.\n"
        }
      ]
    },
    {
      "metadata": {},
      "cell_type": "markdown",
      "source": "### 4) 생성자(constructor) : 객체가 생성될 때 자동으로 호출되는 메서드"
    },
    {
      "metadata": {},
      "cell_type": "markdown",
      "source": "- \\_\\_init__() 메서드로 초기화하기"
    },
    {
      "metadata": {
        "trusted": false
      },
      "cell_type": "code",
      "source": "class Cake:\n    coat = '생크림'\n    def __init__(self):\n        print(self.coat, '케이크입니다.')\n        \na = Cake()",
      "execution_count": 22,
      "outputs": [
        {
          "name": "stdout",
          "output_type": "stream",
          "text": "생크림 케이크입니다.\n"
        }
      ]
    },
    {
      "metadata": {},
      "cell_type": "markdown",
      "source": "## 2. 모듈"
    },
    {
      "metadata": {},
      "cell_type": "markdown",
      "source": "- 전체 프로그램을 구성하는 독립적인 기능을 묶은 요소\n- 파이썬 소스 코드 파일 하나\n- 소스 코드 파일 하나에는 기능적으로 서로 연관된 데이터, 클래스, 함수가 모여있다."
    },
    {
      "metadata": {},
      "cell_type": "markdown",
      "source": "### 1) import문"
    },
    {
      "metadata": {},
      "cell_type": "markdown",
      "source": "- 나누어 놓은 모듈을 읽어들여 사용하는 기능\n- 모듈을 임포트하면 모듈의 이름과 동일한 변수에 모듈이 대입된다.\n- 모듈 안에서 전역 이름으로 정의된 데이터, 함수, 클래스 등의 객체를 모듈.이름 표현으로 가리킬 수 있다."
    },
    {
      "metadata": {},
      "cell_type": "markdown",
      "source": "- 모듈의 이름을 직접 지정하고 싶다면 import 문에 as 이름을 붙일 수 있다."
    },
    {
      "metadata": {},
      "cell_type": "markdown",
      "source": "## 3. 패키지"
    },
    {
      "metadata": {},
      "cell_type": "markdown",
      "source": "- 여러 개의 모듈·패키지를 묶은 것\n- 패키지를 사용해 모듈을 구조적으로 관리할 수 있다.\n- 공동 작업이나 유지 보수 등 여러 면에서 유리하다.\n- 다른 모듈과 이름이 겹치더라도 더 안전하게 사용할 수 있다."
    },
    {
      "metadata": {},
      "cell_type": "markdown",
      "source": "### 1) import문"
    }
  ],
  "metadata": {
    "kernelspec": {
      "name": "python3",
      "display_name": "Python 3",
      "language": "python"
    },
    "language_info": {
      "mimetype": "text/x-python",
      "nbconvert_exporter": "python",
      "name": "python",
      "pygments_lexer": "ipython3",
      "version": "3.5.4",
      "file_extension": ".py",
      "codemirror_mode": {
        "version": 3,
        "name": "ipython"
      }
    }
  },
  "nbformat": 4,
  "nbformat_minor": 2
}