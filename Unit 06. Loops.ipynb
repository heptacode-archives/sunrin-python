{
  "cells": [
    {
      "metadata": {},
      "cell_type": "markdown",
      "source": "# Unit 6. 반복문(Loops)"
    },
    {
      "metadata": {},
      "cell_type": "markdown",
      "source": "## 1. while 문"
    },
    {
      "metadata": {},
      "cell_type": "markdown",
      "source": "- 조건을 만족하는 동안 True_statements를 반복 실행"
    },
    {
      "metadata": {},
      "cell_type": "markdown",
      "source": "while 조건:\n    True_statement1\n    True_statement2\n    True_statement3\n    ..."
    },
    {
      "metadata": {},
      "cell_type": "markdown",
      "source": "## 2. for 문"
    },
    {
      "metadata": {},
      "cell_type": "markdown",
      "source": "- 시퀀스의 첫 번째 요소부터 마지막 요소까지 차례로 변수에 대입되어 True_statements를 반복 실행"
    },
    {
      "metadata": {},
      "cell_type": "markdown",
      "source": "for 변수 in 시퀀스(문자열, 리스트, 튜플)\n    True_statement1\n    True_statement2\n    True_statement3\n    ...  "
    },
    {
      "metadata": {
        "scrolled": true,
        "trusted": false
      },
      "cell_type": "code",
      "source": "a = [(1,2), (3,4), (5,6)]\nfor(first, last) in a: #first, last = 1, 2\n    print(first + last)",
      "execution_count": 2,
      "outputs": [
        {
          "name": "stdout",
          "output_type": "stream",
          "text": "3\n7\n11\n"
        }
      ]
    },
    {
      "metadata": {},
      "cell_type": "markdown",
      "source": "### 1) range 함수"
    },
    {
      "metadata": {},
      "cell_type": "markdown",
      "source": "- 등차수열(일정한 간격으로 수를 나열한 것)을 시퀀스로 표현해야 하는 경우 사용"
    },
    {
      "metadata": {
        "trusted": false
      },
      "cell_type": "code",
      "source": "",
      "execution_count": null,
      "outputs": []
    },
    {
      "metadata": {},
      "cell_type": "markdown",
      "source": "- range(stop) : 0부터 stop전까지 1씩 증가하는 시퀀스 생성\n- range(start, stop) : start부터 stop전까지 1씩 증가하는 시퀀스 생성\n- range(start, stop, step) : start부터 stop전까지 step씩 증가하는 시퀀스 생성\n- start와 stop은 정수형만 가능"
    },
    {
      "metadata": {
        "trusted": false
      },
      "cell_type": "code",
      "source": "range(5)",
      "execution_count": 3,
      "outputs": [
        {
          "data": {
            "text/plain": "range(0, 5)"
          },
          "execution_count": 3,
          "metadata": {},
          "output_type": "execute_result"
        }
      ]
    },
    {
      "metadata": {
        "trusted": false
      },
      "cell_type": "code",
      "source": "list(range(5))",
      "execution_count": 4,
      "outputs": [
        {
          "data": {
            "text/plain": "[0, 1, 2, 3, 4]"
          },
          "execution_count": 4,
          "metadata": {},
          "output_type": "execute_result"
        }
      ]
    },
    {
      "metadata": {
        "trusted": false
      },
      "cell_type": "code",
      "source": "range(5, 10)",
      "execution_count": 5,
      "outputs": [
        {
          "data": {
            "text/plain": "range(5, 10)"
          },
          "execution_count": 5,
          "metadata": {},
          "output_type": "execute_result"
        }
      ]
    },
    {
      "metadata": {
        "scrolled": true,
        "trusted": false
      },
      "cell_type": "code",
      "source": "list(range(1, 9, 2))",
      "execution_count": 7,
      "outputs": [
        {
          "data": {
            "text/plain": "[1, 3, 5, 7]"
          },
          "execution_count": 7,
          "metadata": {},
          "output_type": "execute_result"
        }
      ]
    },
    {
      "metadata": {
        "trusted": false
      },
      "cell_type": "code",
      "source": "a = list(range(10))\na[1:9:2]",
      "execution_count": 8,
      "outputs": [
        {
          "data": {
            "text/plain": "[1, 3, 5, 7]"
          },
          "execution_count": 8,
          "metadata": {},
          "output_type": "execute_result"
        }
      ]
    },
    {
      "metadata": {},
      "cell_type": "markdown",
      "source": "- range()의 내용을 확인하려면 list()나 tuple()로 변환해주어야 한다.\n- range()는 요소를 계산하기 위한 규칙만 갖고 있고 요소 자체는 갖고 있지 못하다.\n- range()는 필요한 요소를 처음부터 미리 다 만들어두는 것이 아니라, 그 요소를 사용해야 하는 시점에 비로소 만들어낸다."
    },
    {
      "metadata": {
        "trusted": false
      },
      "cell_type": "code",
      "source": "# 코드를 n회 반복 실행\nn = int(input('몇 번 반복하시겠습니까?'))\n\nfor i in range(n):\n    print('안녕')",
      "execution_count": 10,
      "outputs": [
        {
          "name": "stdout",
          "output_type": "stream",
          "text": "몇 번 반복하시겠습니까?3\n안녕\n안녕\n안녕\n"
        }
      ]
    },
    {
      "metadata": {
        "trusted": false
      },
      "cell_type": "code",
      "source": "#구구단\nfor i in range(2, 10):\n    for j in range(1, 10):\n        print(i * j, end = ' ')",
      "execution_count": 13,
      "outputs": [
        {
          "name": "stdout",
          "output_type": "stream",
          "text": "2 4 6 8 10 12 14 16 18 3 6 9 12 15 18 21 24 27 4 8 12 16 20 24 28 32 36 5 10 15 20 25 30 35 40 45 6 12 18 24 30 36 42 48 54 7 14 21 28 35 42 49 56 63 8 16 24 32 40 48 56 64 72 9 18 27 36 45 54 63 72 81 "
        }
      ]
    },
    {
      "metadata": {
        "trusted": false
      },
      "cell_type": "code",
      "source": "#1부터 천만까지의 모든 짝수의 합\ntotal = 0\n\nfor n in range(1,10000000 + 1):\n    if n % 2 == 0:\n        total += n;\n        \nprint(total)",
      "execution_count": 15,
      "outputs": [
        {
          "name": "stdout",
          "output_type": "stream",
          "text": "25000005000000\n"
        }
      ]
    },
    {
      "metadata": {},
      "cell_type": "markdown",
      "source": "- Immutable한 자료형 : range()는 요소를 직접 갖지 않으므로 요소를 수정하는 것은 불가능하다.\n- 내용을 수정하는 것을 제외한 시퀀스 연산을 적용할 수 있다."
    },
    {
      "metadata": {
        "trusted": false
      },
      "cell_type": "code",
      "source": "range(0, 100, 2)[10]",
      "execution_count": 16,
      "outputs": [
        {
          "data": {
            "text/plain": "20"
          },
          "execution_count": 16,
          "metadata": {},
          "output_type": "execute_result"
        }
      ]
    },
    {
      "metadata": {
        "trusted": false
      },
      "cell_type": "code",
      "source": "range(0, 100, 2)[10:20:2]",
      "execution_count": 17,
      "outputs": [
        {
          "data": {
            "text/plain": "range(20, 40, 4)"
          },
          "execution_count": 17,
          "metadata": {},
          "output_type": "execute_result"
        }
      ]
    },
    {
      "metadata": {},
      "cell_type": "markdown",
      "source": "### 2) continue 문"
    },
    {
      "metadata": {},
      "cell_type": "markdown",
      "source": "- 반복 도중에 한 주기의 실행을 중지하고 다음 주기로 넘어도록 하는 명령"
    },
    {
      "metadata": {
        "trusted": true
      },
      "cell_type": "code",
      "source": "for i in range(4): #0~3까지\n    print('현재 반복 주기 : ', i)\n    continue\n    print('다음 반복 주기 : ', i + 1)",
      "execution_count": 3,
      "outputs": [
        {
          "output_type": "stream",
          "text": "현재 반복 주기 :  0\n현재 반복 주기 :  1\n현재 반복 주기 :  2\n현재 반복 주기 :  3\n",
          "name": "stdout"
        }
      ]
    },
    {
      "metadata": {},
      "cell_type": "markdown",
      "source": "### 3) break 문"
    },
    {
      "metadata": {},
      "cell_type": "markdown",
      "source": "- 반복 전체를 중지하고 다음 명령으로 넘어가도록 하는 명령"
    },
    {
      "metadata": {
        "trusted": true
      },
      "cell_type": "code",
      "source": "for i in range(4): #0~3까지\n    print('현재 반복 주기 : ', i)\n    break\n    print('다음 반복 주기 : ', i + 1)",
      "execution_count": 2,
      "outputs": [
        {
          "output_type": "stream",
          "text": "현재 반복 주기 :  0\n",
          "name": "stdout"
        }
      ]
    },
    {
      "metadata": {},
      "cell_type": "markdown",
      "source": "### 4) 리스트 내포 (시험출제 X)"
    },
    {
      "metadata": {},
      "cell_type": "markdown",
      "source": "[표현식 for 변수 in 시퀀스]"
    },
    {
      "metadata": {
        "trusted": true
      },
      "cell_type": "code",
      "source": "a = [1, 2, 3, 4]\nresult = [num * 3 for num in a]\nprint(result)",
      "execution_count": 4,
      "outputs": [
        {
          "output_type": "stream",
          "text": "[3, 6, 9, 12]\n",
          "name": "stdout"
        }
      ]
    },
    {
      "metadata": {},
      "cell_type": "markdown",
      "source": "## 3. while문과 for문의 else 절"
    },
    {
      "metadata": {},
      "cell_type": "raw",
      "source": "while 조건:\n    본문1 #조건이 참인 동안 반복 실행\nelse:\n    본문2 #조건이 거짓일때 실행하는 코드"
    },
    {
      "metadata": {
        "trusted": true
      },
      "cell_type": "code",
      "source": "i = 0\nwhile i < 3:\n    print(i, '번째 실행')\n    i += 1\nelse:\n    print('반복 완료')",
      "execution_count": 7,
      "outputs": [
        {
          "output_type": "stream",
          "text": "0 번째 실행\n1 번째 실행\n2 번째 실행\n반복 완료\n",
          "name": "stdout"
        }
      ]
    },
    {
      "metadata": {
        "trusted": true
      },
      "cell_type": "code",
      "source": "i = 0\nwhile i < 100:\n    print(i, '번째 실행')\n    i += 1\n    if i > 2:\n        print('반복 중지')\n        break\nelse:\n    print('반복 완료')",
      "execution_count": 8,
      "outputs": [
        {
          "output_type": "stream",
          "text": "0 번째 실행\n1 번째 실행\n2 번째 실행\n반복 중지\n",
          "name": "stdout"
        }
      ]
    },
    {
      "metadata": {
        "trusted": true,
        "scrolled": true
      },
      "cell_type": "code",
      "source": "for i in range(3):\n    print(i, '번재 실행')\nelse:\n    print('반복 완료')",
      "execution_count": 9,
      "outputs": [
        {
          "output_type": "stream",
          "text": "0 번재 실행\n1 번재 실행\n2 번재 실행\n반복 완료\n",
          "name": "stdout"
        }
      ]
    },
    {
      "metadata": {
        "trusted": true
      },
      "cell_type": "code",
      "source": "for i in range(100):\n    print(i, '번째 실행')\n    i += 1\n    if i > 2:\n        print('반복 중지')\n        break\nelse:\n    print('반복 완료')",
      "execution_count": 10,
      "outputs": [
        {
          "output_type": "stream",
          "text": "0 번째 실행\n1 번째 실행\n2 번째 실행\n반복 중지\n",
          "name": "stdout"
        }
      ]
    },
    {
      "metadata": {
        "trusted": true,
        "scrolled": true
      },
      "cell_type": "code",
      "source": "def 첫_짝수_찾기 (numbers):\n    for n in numbers:\n        if n % 2 == 0:\n            print(n, '이 첫 짝수입니다.')\n            break\n    else:\n        print('짝수가 없습니다.')\n\n첫_짝수_찾기([1,3,5,33,47,55])\n첫_짝수_찾기([7,5,6,72,19,81])",
      "execution_count": 11,
      "outputs": [
        {
          "output_type": "stream",
          "text": "짝수가 없습니다.\n6 이 첫 짝수입니다.\n",
          "name": "stdout"
        }
      ]
    }
  ],
  "metadata": {
    "kernelspec": {
      "name": "python3",
      "display_name": "Python 3",
      "language": "python"
    },
    "language_info": {
      "mimetype": "text/x-python",
      "nbconvert_exporter": "python",
      "name": "python",
      "pygments_lexer": "ipython3",
      "version": "3.5.4",
      "file_extension": ".py",
      "codemirror_mode": {
        "version": 3,
        "name": "ipython"
      }
    }
  },
  "nbformat": 4,
  "nbformat_minor": 2
}