{
 "cells": [
  {
   "cell_type": "markdown",
   "metadata": {},
   "source": [
    "# Unit 2. 입출력"
   ]
  },
  {
   "cell_type": "markdown",
   "metadata": {},
   "source": [
    "## 1. 출력함수"
   ]
  },
  {
   "cell_type": "markdown",
   "metadata": {},
   "source": [
    "- print(‘문자열’) : ‘문자열’을 화면에 출력, 출력 후 줄바꿈\n",
    "- print(variable_name) : 변수 variable_name에 해당하는 값을 화면에 출력, 출력 후 줄바꿈\n",
    "- print(‘문자열’, variable_name) : ‘문자열’과 변수 variable_name에 해당하는 값을 연속해서 화면에 출력, 출력 후 줄바꿈\n",
    "- print(variable_name, end='') : 변수 variable_name에 해당하는 값을 출력, 출력 후 줄바꿈을 하지 않음\n",
    "- print(a, b, sep=':') : 변수 a와 b에 해당하는 값을 출력, 구분자로 :를 a와 b사이에 넣어서 출력"
   ]
  },
  {
   "cell_type": "code",
   "execution_count": 1,
   "metadata": {},
   "outputs": [
    {
     "name": "stdout",
     "output_type": "stream",
     "text": [
      "123\n"
     ]
    }
   ],
   "source": [
    "a = 123\n",
    "print(a)"
   ]
  },
  {
   "cell_type": "code",
   "execution_count": 2,
   "metadata": {},
   "outputs": [
    {
     "name": "stdout",
     "output_type": "stream",
     "text": [
      "Python\n"
     ]
    }
   ],
   "source": [
    "a = 'Python'\n",
    "print(a)"
   ]
  },
  {
   "cell_type": "code",
   "execution_count": 3,
   "metadata": {},
   "outputs": [
    {
     "name": "stdout",
     "output_type": "stream",
     "text": [
      "lifeistooshort\n"
     ]
    }
   ],
   "source": [
    "print('life' 'is' 'too' 'short')"
   ]
  },
  {
   "cell_type": "code",
   "execution_count": 4,
   "metadata": {},
   "outputs": [
    {
     "name": "stdout",
     "output_type": "stream",
     "text": [
      "life is too short\n"
     ]
    }
   ],
   "source": [
    "print('life', 'is', 'too', 'short')"
   ]
  },
  {
   "cell_type": "code",
   "execution_count": 6,
   "metadata": {},
   "outputs": [
    {
     "name": "stdout",
     "output_type": "stream",
     "text": [
      "abc"
     ]
    }
   ],
   "source": [
    "print('a', end='')\n",
    "print('b', end='')\n",
    "print('c', end='')"
   ]
  },
  {
   "cell_type": "code",
   "execution_count": 7,
   "metadata": {},
   "outputs": [
    {
     "name": "stdout",
     "output_type": "stream",
     "text": [
      "a,b,c,"
     ]
    }
   ],
   "source": [
    "print('a', end=',')\n",
    "print('b', end=',')\n",
    "print('c', end=',')"
   ]
  },
  {
   "cell_type": "code",
   "execution_count": 9,
   "metadata": {},
   "outputs": [
    {
     "name": "stdout",
     "output_type": "stream",
     "text": [
      "a:b:c\n"
     ]
    }
   ],
   "source": [
    "print('a', 'b', 'c', sep=':')"
   ]
  },
  {
   "cell_type": "markdown",
   "metadata": {},
   "source": [
    "## 2. 입력함수"
   ]
  },
  {
   "cell_type": "markdown",
   "metadata": {},
   "source": [
    "- input() : 사용자로부터 입력\n",
    "- input('문자열') : ‘문자열’에 해당하는 내용을 출력 후 사용자로부터 입력"
   ]
  },
  {
   "cell_type": "code",
   "execution_count": null,
   "metadata": {},
   "outputs": [],
   "source": [
    "var = input()\n",
    "print(var)"
   ]
  },
  {
   "cell_type": "code",
   "execution_count": null,
   "metadata": {},
   "outputs": [],
   "source": [
    "var = input('입력하시오.')\n",
    "print(var)"
   ]
  },
  {
   "cell_type": "code",
   "execution_count": 10,
   "metadata": {},
   "outputs": [
    {
     "name": "stdout",
     "output_type": "stream",
     "text": [
      "좋아하는 숫자를 입력하시오 : 3\n",
      "좋아하는 숫자를 입력하시오 : 3\n",
      "33\n"
     ]
    }
   ],
   "source": [
    "a = input('좋아하는 숫자를 입력하시오 : ')\n",
    "b = input('좋아하는 숫자를 입력하시오 : ')\n",
    "print(a+b)"
   ]
  },
  {
   "cell_type": "code",
   "execution_count": 11,
   "metadata": {},
   "outputs": [
    {
     "name": "stdout",
     "output_type": "stream",
     "text": [
      "좋아하는 숫자를 입력하시오 : 3\n",
      "좋아하는 숫자를 입력하시오 : 3\n",
      "6\n"
     ]
    }
   ],
   "source": [
    "a = input('좋아하는 숫자를 입력하시오 : ')\n",
    "b = input('좋아하는 숫자를 입력하시오 : ')\n",
    "print(int(a)+int(b))"
   ]
  }
 ],
 "metadata": {
  "kernelspec": {
   "display_name": "Python 3",
   "language": "python",
   "name": "python3"
  },
  "language_info": {
   "codemirror_mode": {
    "name": "ipython",
    "version": 3
   },
   "file_extension": ".py",
   "mimetype": "text/x-python",
   "name": "python",
   "nbconvert_exporter": "python",
   "pygments_lexer": "ipython3",
   "version": "3.6.5"
  }
 },
 "nbformat": 4,
 "nbformat_minor": 2
}
