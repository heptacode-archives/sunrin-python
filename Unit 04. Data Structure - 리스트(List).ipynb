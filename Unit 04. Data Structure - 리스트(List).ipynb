{
  "cells": [
    {
      "metadata": {},
      "cell_type": "markdown",
      "source": "# Unit 4. 데이터 구조(Data Structure)"
    },
    {
      "metadata": {},
      "cell_type": "markdown",
      "source": "## 1. 리스트(list)"
    },
    {
      "metadata": {},
      "cell_type": "markdown",
      "source": "### 1) 리스트 선언"
    },
    {
      "metadata": {},
      "cell_type": "markdown",
      "source": "- 리스트명 = [요소1, 요소2, 요소3, ...]\n- 리스트를 만들 때는 위에서 보는 것과 같이 대괄호([ ])로 감싸 주고 각 요소값들은 쉼표(,)로 구분\n- 리스트 안에는 어떠한 자료형도 포함시킬 수 있다."
    },
    {
      "metadata": {
        "trusted": false
      },
      "cell_type": "code",
      "source": "a = []\nb = [1, 2, 3]\nc = ['list', 'is', 'too', 'short']\nd = [1, 2, 'life', 'is']\ne = [1, 2, ['life', 'is']]",
      "execution_count": null,
      "outputs": []
    },
    {
      "metadata": {},
      "cell_type": "markdown",
      "source": "비어 있는 리스트는 a = list()로 생성할 수도 있다."
    },
    {
      "metadata": {},
      "cell_type": "markdown",
      "source": "### 2) 리스트 연산"
    },
    {
      "metadata": {},
      "cell_type": "markdown",
      "source": "- 리스트 병합 : [리스트] + [리스트] + ... + [리스트] : 각 리스트를 병합하여 하나의 리스트로 생성"
    },
    {
      "metadata": {
        "trusted": false
      },
      "cell_type": "code",
      "source": "a = [1, 2, 3]\nb = [4, 5, 6]\na + b",
      "execution_count": 1,
      "outputs": [
        {
          "data": {
            "text/plain": "[1, 2, 3, 4, 5, 6]"
          },
          "execution_count": 1,
          "metadata": {},
          "output_type": "execute_result"
        }
      ]
    },
    {
      "metadata": {},
      "cell_type": "markdown",
      "source": "- 리스트 반복 : 리스트를 n만큼 반복하여 하나의 리스트로 생성"
    },
    {
      "metadata": {
        "trusted": false
      },
      "cell_type": "code",
      "source": "a * 3",
      "execution_count": 2,
      "outputs": [
        {
          "data": {
            "text/plain": "[1, 2, 3, 1, 2, 3, 1, 2, 3]"
          },
          "execution_count": 2,
          "metadata": {},
          "output_type": "execute_result"
        }
      ]
    },
    {
      "metadata": {},
      "cell_type": "markdown",
      "source": "len(리스트) : 리스트의 길이(요소의 개수)를 반환"
    },
    {
      "metadata": {
        "trusted": false
      },
      "cell_type": "code",
      "source": "len(a)",
      "execution_count": 3,
      "outputs": [
        {
          "data": {
            "text/plain": "3"
          },
          "execution_count": 3,
          "metadata": {},
          "output_type": "execute_result"
        }
      ]
    },
    {
      "metadata": {},
      "cell_type": "markdown",
      "source": "### 3) 리스트 인덱싱"
    },
    {
      "metadata": {},
      "cell_type": "markdown",
      "source": "- 리스트[인덱스] : 인덱스에 해당하는 요소를 반환\n- 인덱스는 0부터 시작\n- 음수 인덱스는 뒤에서부터 접근(-1은 뒤에서 첫 번째, -3은 뒤에서 세 번째)"
    },
    {
      "metadata": {
        "trusted": false
      },
      "cell_type": "code",
      "source": "print(a[0])\nprint(a[1])\nprint(a[-1])",
      "execution_count": 5,
      "outputs": [
        {
          "name": "stdout",
          "output_type": "stream",
          "text": "1\n2\n3\n"
        }
      ]
    },
    {
      "metadata": {
        "trusted": false
      },
      "cell_type": "code",
      "source": "#print(a[3])\n#print(a[-4])",
      "execution_count": 8,
      "outputs": []
    },
    {
      "metadata": {},
      "cell_type": "markdown",
      "source": "### 4) 리스트 슬라이싱"
    },
    {
      "metadata": {},
      "cell_type": "markdown",
      "source": "- 리스트[시작 인덱스:끝 인덱스] : 시작 인덱스~끝 인덱스-1에 해당하는 요소를 반환"
    },
    {
      "metadata": {
        "trusted": false
      },
      "cell_type": "code",
      "source": "a = [10, 20, 30, 40, 50]\nprint(a[0:4])\nprint(a[:4])\nprint(a[4:])\nprint(a[:])\nprint(a[:-1])\nprint(a[:999])\nprint(a[-999:])",
      "execution_count": 12,
      "outputs": [
        {
          "name": "stdout",
          "output_type": "stream",
          "text": "[10, 20, 30, 40]\n[10, 20, 30, 40]\n[50]\n[10, 20, 30, 40, 50]\n[10, 20, 30, 40]\n[10, 20, 30, 40, 50]\n[10, 20, 30, 40, 50]\n"
        }
      ]
    },
    {
      "metadata": {},
      "cell_type": "markdown",
      "source": "- 중첩된 리스트에서 슬라이싱"
    },
    {
      "metadata": {
        "trusted": false
      },
      "cell_type": "code",
      "source": "a = [1, 2, 3, ['a', 'b', 'c'], 4, 5]\nprint(a[2:5])\nprint(a[3][:2])",
      "execution_count": 13,
      "outputs": [
        {
          "name": "stdout",
          "output_type": "stream",
          "text": "[3, ['a', 'b', 'c'], 4]\n['a', 'b']\n"
        }
      ]
    },
    {
      "metadata": {},
      "cell_type": "markdown",
      "source": "### 5) Mutable한 자료형"
    },
    {
      "metadata": {
        "scrolled": true,
        "trusted": false
      },
      "cell_type": "code",
      "source": "a = [1, 2, 3]\na[2] = 4\na",
      "execution_count": 14,
      "outputs": [
        {
          "data": {
            "text/plain": "[1, 2, 4]"
          },
          "execution_count": 14,
          "metadata": {},
          "output_type": "execute_result"
        }
      ]
    },
    {
      "metadata": {},
      "cell_type": "markdown",
      "source": "### 6) 리스트 구성요소 확인"
    },
    {
      "metadata": {},
      "cell_type": "markdown",
      "source": "- in : 리스트의 요소인가를 확인하는 연산자\n- not in : 리스트의 요소가 아닌 요소를 확인하는 연산자"
    },
    {
      "metadata": {
        "trusted": false
      },
      "cell_type": "code",
      "source": "aliquotpart = [1, 2, 3, 4, 6, 12]\nprint(1 in aliquotpart)\nprint(5 in aliquotpart)\nprint(1 not in aliquotpart)\nprint(5 not in aliquotpart)",
      "execution_count": 1,
      "outputs": [
        {
          "name": "stdout",
          "output_type": "stream",
          "text": "True\nFalse\nFalse\nTrue\n"
        }
      ]
    },
    {
      "metadata": {},
      "cell_type": "markdown",
      "source": "### 7) 리스트 관련 함수들"
    },
    {
      "metadata": {},
      "cell_type": "markdown",
      "source": "- del : 요소 삭제하기"
    },
    {
      "metadata": {
        "trusted": false
      },
      "cell_type": "code",
      "source": "a = [1,2,3,4,5]\ndel a[1]\nprint(a)\ndel a[2:]\nprint(a)",
      "execution_count": 3,
      "outputs": [
        {
          "name": "stdout",
          "output_type": "stream",
          "text": "[1, 3, 4, 5]\n[1, 3]\n"
        }
      ]
    },
    {
      "metadata": {},
      "cell_type": "markdown",
      "source": "- append : 리스트의 맨 마지막에 요소 추가하기"
    },
    {
      "metadata": {
        "trusted": false
      },
      "cell_type": "code",
      "source": "a = [1,2,3]\na.append(4)\nprint(a)",
      "execution_count": 5,
      "outputs": [
        {
          "name": "stdout",
          "output_type": "stream",
          "text": "[1, 2, 3, 4]\n"
        }
      ]
    },
    {
      "metadata": {},
      "cell_type": "markdown",
      "source": "- sort : 리스트 정렬하기"
    },
    {
      "metadata": {
        "trusted": false
      },
      "cell_type": "code",
      "source": "a = ['a', 'c', 'b']\na.sort()\na",
      "execution_count": 6,
      "outputs": [
        {
          "data": {
            "text/plain": "['a', 'b', 'c']"
          },
          "execution_count": 6,
          "metadata": {},
          "output_type": "execute_result"
        }
      ]
    },
    {
      "metadata": {},
      "cell_type": "markdown",
      "source": "- reverse : 리스트 순서 뒤집기"
    },
    {
      "metadata": {
        "trusted": false
      },
      "cell_type": "code",
      "source": "a = ['a', 'c', 'b']\na.reverse()\na",
      "execution_count": 7,
      "outputs": [
        {
          "data": {
            "text/plain": "['b', 'c', 'a']"
          },
          "execution_count": 7,
          "metadata": {},
          "output_type": "execute_result"
        }
      ]
    },
    {
      "metadata": {},
      "cell_type": "markdown",
      "source": "- index : 요소 위치 반환하기"
    },
    {
      "metadata": {
        "trusted": true
      },
      "cell_type": "code",
      "source": "a = [1,2,3]\nprint(a.index(3))\nprint(a.index(1))",
      "execution_count": 1,
      "outputs": [
        {
          "output_type": "stream",
          "text": "2\n0\n",
          "name": "stdout"
        }
      ]
    },
    {
      "metadata": {},
      "cell_type": "markdown",
      "source": "- insert : 특정 인덱스 앞에 요소 삽입하기"
    },
    {
      "metadata": {
        "trusted": true
      },
      "cell_type": "code",
      "source": "a = [1,2,3]\na.insert(0,4)\na",
      "execution_count": 2,
      "outputs": [
        {
          "output_type": "execute_result",
          "execution_count": 2,
          "data": {
            "text/plain": "[4, 1, 2, 3]"
          },
          "metadata": {}
        }
      ]
    },
    {
      "metadata": {
        "trusted": true
      },
      "cell_type": "code",
      "source": "a = [1,2,3,1,2,3]\na.remove(3)\na",
      "execution_count": 3,
      "outputs": [
        {
          "output_type": "execute_result",
          "execution_count": 3,
          "data": {
            "text/plain": "[1, 2, 1, 2, 3]"
          },
          "metadata": {}
        }
      ]
    },
    {
      "metadata": {},
      "cell_type": "markdown",
      "source": "- remove : 특정 요소 삭제하기"
    },
    {
      "metadata": {
        "trusted": false
      },
      "cell_type": "code",
      "source": "a = [1,2,3,1,2,3]\na.remove(3)\na",
      "execution_count": 9,
      "outputs": [
        {
          "data": {
            "text/plain": "[1, 2, 1, 2, 3]"
          },
          "execution_count": 9,
          "metadata": {},
          "output_type": "execute_result"
        }
      ]
    },
    {
      "metadata": {},
      "cell_type": "markdown",
      "source": "- pop : 특정 인덱스 요소 꺼내기"
    },
    {
      "metadata": {
        "trusted": false
      },
      "cell_type": "code",
      "source": "a = [1,2,3]\nb = a.pop()\nprint(a)\nprint(b)",
      "execution_count": 14,
      "outputs": [
        {
          "name": "stdout",
          "output_type": "stream",
          "text": "[1, 2]\n3\n"
        }
      ]
    },
    {
      "metadata": {},
      "cell_type": "markdown",
      "source": "- count : 요소 개수 확인하기"
    },
    {
      "metadata": {
        "trusted": false
      },
      "cell_type": "code",
      "source": "a = [1,2,3,1]\na.count(1)",
      "execution_count": 16,
      "outputs": [
        {
          "data": {
            "text/plain": "2"
          },
          "execution_count": 16,
          "metadata": {},
          "output_type": "execute_result"
        }
      ]
    },
    {
      "metadata": {},
      "cell_type": "markdown",
      "source": "- extend : 리스트 확장하기(더하기)"
    },
    {
      "metadata": {
        "trusted": false
      },
      "cell_type": "code",
      "source": "a = [1,2,3]\na.extend([4,5])\nb = [6,7]\na.extend(b)\nprint(a)",
      "execution_count": 22,
      "outputs": [
        {
          "name": "stdout",
          "output_type": "stream",
          "text": "[1, 2, 3, 4, 5, 6, 7]\n"
        }
      ]
    },
    {
      "metadata": {},
      "cell_type": "markdown",
      "source": "- join"
    },
    {
      "metadata": {
        "trusted": true
      },
      "cell_type": "code",
      "source": "a = [\"1\", \"2\", \"3\"]\n\", \".join(a)",
      "execution_count": 23,
      "outputs": [
        {
          "output_type": "execute_result",
          "execution_count": 23,
          "data": {
            "text/plain": "'1, 2, 3'"
          },
          "metadata": {}
        }
      ]
    },
    {
      "metadata": {},
      "cell_type": "markdown",
      "source": "### 8) 리스트 복사"
    },
    {
      "metadata": {
        "scrolled": true,
        "trusted": false
      },
      "cell_type": "code",
      "source": "a = [1,2,3]\nb = a\nprint(a)\nprint(b)",
      "execution_count": 3,
      "outputs": [
        {
          "name": "stdout",
          "output_type": "stream",
          "text": "[1, 2, 3]\n[1, 2, 3]\n"
        }
      ]
    },
    {
      "metadata": {
        "scrolled": true,
        "trusted": false
      },
      "cell_type": "code",
      "source": "a[1] = 4\nprint(a)\nprint(b)",
      "execution_count": 4,
      "outputs": [
        {
          "name": "stdout",
          "output_type": "stream",
          "text": "[1, 4, 3]\n[1, 4, 3]\n"
        }
      ]
    },
    {
      "metadata": {
        "trusted": false
      },
      "cell_type": "code",
      "source": "a[1] = 4\nprint(a)\nprint(b)",
      "execution_count": 6,
      "outputs": [
        {
          "name": "stdout",
          "output_type": "stream",
          "text": "[1, 4, 3]\n[1, 4, 3]\n"
        }
      ]
    },
    {
      "metadata": {
        "trusted": false
      },
      "cell_type": "code",
      "source": "a = [1,2,3]\nb = a[:]\nprint(id(a))\nprint(id(b))",
      "execution_count": 9,
      "outputs": [
        {
          "name": "stdout",
          "output_type": "stream",
          "text": "2920884877000\n2920884893768\n"
        }
      ]
    },
    {
      "metadata": {
        "trusted": false
      },
      "cell_type": "code",
      "source": "#from copy import copy\na = [1,2,3]\nb = a.copy()\nprint(id(a))\nprint(id(b))",
      "execution_count": 11,
      "outputs": [
        {
          "name": "stdout",
          "output_type": "stream",
          "text": "2920884877000\n2920884893768\n"
        }
      ]
    },
    {
      "metadata": {},
      "cell_type": "markdown",
      "source": "## [연습문제]"
    },
    {
      "metadata": {},
      "cell_type": "markdown",
      "source": "### 1. words라는 list 안에 happy, love, I, am, You라는 단어가 차례대로 들어가 있다. 이 단어들로 문장을 만들어 보자."
    },
    {
      "metadata": {
        "trusted": false
      },
      "cell_type": "code",
      "source": "words = ['happy', 'love', 'I', 'am', 'You']\nprint(words[2], words[1], words[4])",
      "execution_count": 42,
      "outputs": [
        {
          "name": "stdout",
          "output_type": "stream",
          "text": "I love You\n"
        }
      ]
    },
    {
      "metadata": {},
      "cell_type": "markdown",
      "source": "### 2. 철수, 영희, 수지, 수정, 길동, 영철 총 6명의 학생이 학원의 같은 반이다. 수정이가 친구와 놀러 간다고 학원 수업에 빠졌고, 수정이의 엄마는 수정이가 왔는지 오지 않았는지 확인 전화를 걸어 본다. 수정이가 있는지 없는지를 in을 이용해 알아보자."
    },
    {
      "metadata": {
        "trusted": false
      },
      "cell_type": "code",
      "source": "names = ['철수', '영희', '수지', '길동', '영철']\nprint('수정' in names)",
      "execution_count": 45,
      "outputs": [
        {
          "name": "stdout",
          "output_type": "stream",
          "text": "False\n"
        }
      ]
    },
    {
      "metadata": {},
      "cell_type": "markdown",
      "source": "### 3. 로또는 숫자 6개를 입력해야 한다. list1 = [1, 2, 3, 6, 7]이라 할 때, 통과할 수 있는지 알아보는 프로그램을 작성해 보자."
    },
    {
      "metadata": {
        "trusted": false
      },
      "cell_type": "code",
      "source": "list1 = [1, 2, 3, 6, 7]\nif len(list1) == 6:\n    print('통과')\nelse:\n    print('6개를 입력하세요')",
      "execution_count": 49,
      "outputs": [
        {
          "name": "stdout",
          "output_type": "stream",
          "text": "6개를 입력하세요\n"
        }
      ]
    },
    {
      "metadata": {},
      "cell_type": "markdown",
      "source": "### 4. word = [‘h’, ‘i’, ‘m’, ‘y’, ‘n’, ‘a’, ‘m’, ‘e’, ‘i’, ‘s’]의 list가 있다. 여기서 단어 하나를 추출해보자."
    },
    {
      "metadata": {
        "trusted": false
      },
      "cell_type": "code",
      "source": "word = ['h', 'i', 'm', 'y', 'n', 'a', 'm', 'e', 'i', 's']\nprint(word[4:8])",
      "execution_count": 51,
      "outputs": [
        {
          "name": "stdout",
          "output_type": "stream",
          "text": "['n', 'a', 'm', 'e']\n"
        }
      ]
    },
    {
      "metadata": {},
      "cell_type": "markdown",
      "source": "### 5. list인 introduce에는 ‘내’, ‘이’, ‘름’, ‘은’, ‘수’, ‘지’, ‘야’라는 요소들이 들어가 있다. 여기서 이름인 수지를 민수로 바꾸어보자."
    },
    {
      "metadata": {
        "scrolled": true,
        "trusted": false
      },
      "cell_type": "code",
      "source": "introduce = ['내', '이', '름', '은', '수', '지', '야']\nintroduce[4] = '민'\nintroduce[5] = '수'\nprint(introduce)",
      "execution_count": 23,
      "outputs": [
        {
          "name": "stdout",
          "output_type": "stream",
          "text": "['내', '이', '름', '은', '민', '수', '야']\n"
        }
      ]
    },
    {
      "metadata": {
        "trusted": false
      },
      "cell_type": "code",
      "source": "s = '내이름은수지야'\ni = list(s)\nprint(i)",
      "execution_count": 12,
      "outputs": [
        {
          "name": "stdout",
          "output_type": "stream",
          "text": "['내', '이', '름', '은', '수', '지', '야']\n"
        }
      ]
    }
  ],
  "metadata": {
    "kernelspec": {
      "name": "python3",
      "display_name": "Python 3",
      "language": "python"
    },
    "language_info": {
      "mimetype": "text/x-python",
      "nbconvert_exporter": "python",
      "name": "python",
      "file_extension": ".py",
      "version": "3.5.4",
      "pygments_lexer": "ipython3",
      "codemirror_mode": {
        "version": 3,
        "name": "ipython"
      }
    }
  },
  "nbformat": 4,
  "nbformat_minor": 2
}